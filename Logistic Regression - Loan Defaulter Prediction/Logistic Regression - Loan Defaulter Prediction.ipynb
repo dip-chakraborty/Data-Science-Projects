{
 "cells": [
  {
   "cell_type": "markdown",
   "id": "d3a48649",
   "metadata": {},
   "source": [
    "# LOGISTIC REGRESSION - LOAN DEFAULTER PREDICTION"
   ]
  },
  {
   "cell_type": "markdown",
   "id": "c41ec6ba",
   "metadata": {},
   "source": [
    "# "
   ]
  },
  {
   "cell_type": "markdown",
   "id": "cff0ddb4",
   "metadata": {},
   "source": [
    "## Import necessary Libraries"
   ]
  },
  {
   "cell_type": "code",
   "execution_count": 361,
   "id": "404db40a",
   "metadata": {},
   "outputs": [],
   "source": [
    "import pandas as pd\n",
    "import numpy as np\n",
    "import matplotlib.pyplot as plt\n",
    "import seaborn as sns\n",
    "sns.set()\n",
    "%matplotlib inline\n",
    "from scipy import stats\n",
    "from sklearn import linear_model\n",
    "from sklearn.linear_model import LinearRegression"
   ]
  },
  {
   "cell_type": "markdown",
   "id": "3250b488",
   "metadata": {},
   "source": [
    "## Loading csv into dataframe"
   ]
  },
  {
   "cell_type": "code",
   "execution_count": 362,
   "id": "6fa750b6",
   "metadata": {},
   "outputs": [],
   "source": [
    "raw_data = pd.read_csv('train_data_1.csv')"
   ]
  },
  {
   "cell_type": "code",
   "execution_count": 363,
   "id": "82c49950",
   "metadata": {},
   "outputs": [
    {
     "data": {
      "text/html": [
       "<div>\n",
       "<style scoped>\n",
       "    .dataframe tbody tr th:only-of-type {\n",
       "        vertical-align: middle;\n",
       "    }\n",
       "\n",
       "    .dataframe tbody tr th {\n",
       "        vertical-align: top;\n",
       "    }\n",
       "\n",
       "    .dataframe thead th {\n",
       "        text-align: right;\n",
       "    }\n",
       "</style>\n",
       "<table border=\"1\" class=\"dataframe\">\n",
       "  <thead>\n",
       "    <tr style=\"text-align: right;\">\n",
       "      <th></th>\n",
       "      <th>member_id</th>\n",
       "      <th>loan_amnt</th>\n",
       "      <th>funded_amnt</th>\n",
       "      <th>funded_amnt_inv</th>\n",
       "      <th>term</th>\n",
       "      <th>batch_enrolled</th>\n",
       "      <th>int_rate</th>\n",
       "      <th>grade</th>\n",
       "      <th>sub_grade</th>\n",
       "      <th>emp_title</th>\n",
       "      <th>...</th>\n",
       "      <th>collections_12_mths_ex_med</th>\n",
       "      <th>mths_since_last_major_derog</th>\n",
       "      <th>application_type</th>\n",
       "      <th>verification_status_joint</th>\n",
       "      <th>last_week_pay</th>\n",
       "      <th>acc_now_delinq</th>\n",
       "      <th>tot_coll_amt</th>\n",
       "      <th>tot_cur_bal</th>\n",
       "      <th>total_rev_hi_lim</th>\n",
       "      <th>loan_status</th>\n",
       "    </tr>\n",
       "  </thead>\n",
       "  <tbody>\n",
       "    <tr>\n",
       "      <th>0</th>\n",
       "      <td>58189336</td>\n",
       "      <td>14350</td>\n",
       "      <td>14350</td>\n",
       "      <td>14350.0</td>\n",
       "      <td>36 months</td>\n",
       "      <td>NaN</td>\n",
       "      <td>19.19</td>\n",
       "      <td>E</td>\n",
       "      <td>E3</td>\n",
       "      <td>clerk</td>\n",
       "      <td>...</td>\n",
       "      <td>0.0</td>\n",
       "      <td>74.0</td>\n",
       "      <td>INDIVIDUAL</td>\n",
       "      <td>NaN</td>\n",
       "      <td>26th week</td>\n",
       "      <td>0.0</td>\n",
       "      <td>0.0</td>\n",
       "      <td>28699.0</td>\n",
       "      <td>30800.0</td>\n",
       "      <td>0</td>\n",
       "    </tr>\n",
       "    <tr>\n",
       "      <th>1</th>\n",
       "      <td>70011223</td>\n",
       "      <td>4800</td>\n",
       "      <td>4800</td>\n",
       "      <td>4800.0</td>\n",
       "      <td>36 months</td>\n",
       "      <td>BAT1586599</td>\n",
       "      <td>10.99</td>\n",
       "      <td>B</td>\n",
       "      <td>B4</td>\n",
       "      <td>Human Resources Specialist</td>\n",
       "      <td>...</td>\n",
       "      <td>0.0</td>\n",
       "      <td>NaN</td>\n",
       "      <td>INDIVIDUAL</td>\n",
       "      <td>NaN</td>\n",
       "      <td>9th week</td>\n",
       "      <td>0.0</td>\n",
       "      <td>0.0</td>\n",
       "      <td>9974.0</td>\n",
       "      <td>32900.0</td>\n",
       "      <td>0</td>\n",
       "    </tr>\n",
       "    <tr>\n",
       "      <th>2</th>\n",
       "      <td>70255675</td>\n",
       "      <td>10000</td>\n",
       "      <td>10000</td>\n",
       "      <td>10000.0</td>\n",
       "      <td>36 months</td>\n",
       "      <td>BAT1586599</td>\n",
       "      <td>7.26</td>\n",
       "      <td>A</td>\n",
       "      <td>A4</td>\n",
       "      <td>Driver</td>\n",
       "      <td>...</td>\n",
       "      <td>0.0</td>\n",
       "      <td>NaN</td>\n",
       "      <td>INDIVIDUAL</td>\n",
       "      <td>NaN</td>\n",
       "      <td>9th week</td>\n",
       "      <td>0.0</td>\n",
       "      <td>65.0</td>\n",
       "      <td>38295.0</td>\n",
       "      <td>34900.0</td>\n",
       "      <td>0</td>\n",
       "    </tr>\n",
       "    <tr>\n",
       "      <th>3</th>\n",
       "      <td>1893936</td>\n",
       "      <td>15000</td>\n",
       "      <td>15000</td>\n",
       "      <td>15000.0</td>\n",
       "      <td>36 months</td>\n",
       "      <td>BAT4808022</td>\n",
       "      <td>19.72</td>\n",
       "      <td>D</td>\n",
       "      <td>D5</td>\n",
       "      <td>Us office of Personnel Management</td>\n",
       "      <td>...</td>\n",
       "      <td>0.0</td>\n",
       "      <td>NaN</td>\n",
       "      <td>INDIVIDUAL</td>\n",
       "      <td>NaN</td>\n",
       "      <td>135th week</td>\n",
       "      <td>0.0</td>\n",
       "      <td>0.0</td>\n",
       "      <td>55564.0</td>\n",
       "      <td>24700.0</td>\n",
       "      <td>0</td>\n",
       "    </tr>\n",
       "    <tr>\n",
       "      <th>4</th>\n",
       "      <td>7652106</td>\n",
       "      <td>16000</td>\n",
       "      <td>16000</td>\n",
       "      <td>16000.0</td>\n",
       "      <td>36 months</td>\n",
       "      <td>BAT2833642</td>\n",
       "      <td>10.64</td>\n",
       "      <td>B</td>\n",
       "      <td>B2</td>\n",
       "      <td>LAUSD-HOLLYWOOD HIGH SCHOOL</td>\n",
       "      <td>...</td>\n",
       "      <td>0.0</td>\n",
       "      <td>NaN</td>\n",
       "      <td>INDIVIDUAL</td>\n",
       "      <td>NaN</td>\n",
       "      <td>96th week</td>\n",
       "      <td>0.0</td>\n",
       "      <td>0.0</td>\n",
       "      <td>47159.0</td>\n",
       "      <td>47033.0</td>\n",
       "      <td>0</td>\n",
       "    </tr>\n",
       "  </tbody>\n",
       "</table>\n",
       "<p>5 rows × 45 columns</p>\n",
       "</div>"
      ],
      "text/plain": [
       "   member_id  loan_amnt  funded_amnt  funded_amnt_inv       term  \\\n",
       "0   58189336      14350        14350          14350.0  36 months   \n",
       "1   70011223       4800         4800           4800.0  36 months   \n",
       "2   70255675      10000        10000          10000.0  36 months   \n",
       "3    1893936      15000        15000          15000.0  36 months   \n",
       "4    7652106      16000        16000          16000.0  36 months   \n",
       "\n",
       "  batch_enrolled  int_rate grade sub_grade                          emp_title  \\\n",
       "0            NaN     19.19     E        E3                              clerk   \n",
       "1     BAT1586599     10.99     B        B4         Human Resources Specialist   \n",
       "2     BAT1586599      7.26     A        A4                             Driver   \n",
       "3     BAT4808022     19.72     D        D5  Us office of Personnel Management   \n",
       "4     BAT2833642     10.64     B        B2        LAUSD-HOLLYWOOD HIGH SCHOOL   \n",
       "\n",
       "   ... collections_12_mths_ex_med mths_since_last_major_derog  \\\n",
       "0  ...                        0.0                        74.0   \n",
       "1  ...                        0.0                         NaN   \n",
       "2  ...                        0.0                         NaN   \n",
       "3  ...                        0.0                         NaN   \n",
       "4  ...                        0.0                         NaN   \n",
       "\n",
       "   application_type verification_status_joint last_week_pay acc_now_delinq  \\\n",
       "0        INDIVIDUAL                       NaN     26th week            0.0   \n",
       "1        INDIVIDUAL                       NaN      9th week            0.0   \n",
       "2        INDIVIDUAL                       NaN      9th week            0.0   \n",
       "3        INDIVIDUAL                       NaN    135th week            0.0   \n",
       "4        INDIVIDUAL                       NaN     96th week            0.0   \n",
       "\n",
       "  tot_coll_amt tot_cur_bal total_rev_hi_lim loan_status  \n",
       "0          0.0     28699.0          30800.0           0  \n",
       "1          0.0      9974.0          32900.0           0  \n",
       "2         65.0     38295.0          34900.0           0  \n",
       "3          0.0     55564.0          24700.0           0  \n",
       "4          0.0     47159.0          47033.0           0  \n",
       "\n",
       "[5 rows x 45 columns]"
      ]
     },
     "execution_count": 363,
     "metadata": {},
     "output_type": "execute_result"
    }
   ],
   "source": [
    "raw_data.head()"
   ]
  },
  {
   "cell_type": "markdown",
   "id": "2a4ae198",
   "metadata": {},
   "source": [
    "## Basic data description"
   ]
  },
  {
   "cell_type": "code",
   "execution_count": 364,
   "id": "ccf2b711",
   "metadata": {},
   "outputs": [
    {
     "data": {
      "text/plain": [
       "(270000, 45)"
      ]
     },
     "execution_count": 364,
     "metadata": {},
     "output_type": "execute_result"
    }
   ],
   "source": [
    "raw_data.shape"
   ]
  },
  {
   "cell_type": "code",
   "execution_count": 365,
   "id": "3c025b9c",
   "metadata": {},
   "outputs": [
    {
     "data": {
      "text/plain": [
       "member_id                        int64\n",
       "loan_amnt                        int64\n",
       "funded_amnt                      int64\n",
       "funded_amnt_inv                float64\n",
       "term                            object\n",
       "batch_enrolled                  object\n",
       "int_rate                       float64\n",
       "grade                           object\n",
       "sub_grade                       object\n",
       "emp_title                       object\n",
       "emp_length                      object\n",
       "home_ownership                  object\n",
       "annual_inc                     float64\n",
       "verification_status             object\n",
       "pymnt_plan                      object\n",
       "desc                            object\n",
       "purpose                         object\n",
       "title                           object\n",
       "zip_code                        object\n",
       "addr_state                      object\n",
       "dti                            float64\n",
       "delinq_2yrs                    float64\n",
       "inq_last_6mths                 float64\n",
       "mths_since_last_delinq         float64\n",
       "mths_since_last_record         float64\n",
       "open_acc                       float64\n",
       "pub_rec                        float64\n",
       "revol_bal                        int64\n",
       "revol_util                     float64\n",
       "total_acc                      float64\n",
       "initial_list_status             object\n",
       "total_rec_int                  float64\n",
       "total_rec_late_fee             float64\n",
       "recoveries                     float64\n",
       "collection_recovery_fee        float64\n",
       "collections_12_mths_ex_med     float64\n",
       "mths_since_last_major_derog    float64\n",
       "application_type                object\n",
       "verification_status_joint       object\n",
       "last_week_pay                   object\n",
       "acc_now_delinq                 float64\n",
       "tot_coll_amt                   float64\n",
       "tot_cur_bal                    float64\n",
       "total_rev_hi_lim               float64\n",
       "loan_status                      int64\n",
       "dtype: object"
      ]
     },
     "execution_count": 365,
     "metadata": {},
     "output_type": "execute_result"
    }
   ],
   "source": [
    "raw_data.dtypes"
   ]
  },
  {
   "cell_type": "code",
   "execution_count": 366,
   "id": "f438abe8",
   "metadata": {},
   "outputs": [
    {
     "name": "stdout",
     "output_type": "stream",
     "text": [
      "<class 'pandas.core.frame.DataFrame'>\n",
      "RangeIndex: 270000 entries, 0 to 269999\n",
      "Data columns (total 45 columns):\n",
      " #   Column                       Non-Null Count   Dtype  \n",
      "---  ------                       --------------   -----  \n",
      " 0   member_id                    270000 non-null  int64  \n",
      " 1   loan_amnt                    270000 non-null  int64  \n",
      " 2   funded_amnt                  270000 non-null  int64  \n",
      " 3   funded_amnt_inv              270000 non-null  float64\n",
      " 4   term                         270000 non-null  object \n",
      " 5   batch_enrolled               173125 non-null  object \n",
      " 6   int_rate                     270000 non-null  float64\n",
      " 7   grade                        270000 non-null  object \n",
      " 8   sub_grade                    270000 non-null  object \n",
      " 9   emp_title                    254375 non-null  object \n",
      " 10  emp_length                   256370 non-null  object \n",
      " 11  home_ownership               270000 non-null  object \n",
      " 12  annual_inc                   269998 non-null  float64\n",
      " 13  verification_status          270000 non-null  object \n",
      " 14  pymnt_plan                   270000 non-null  object \n",
      " 15  desc                         38379 non-null   object \n",
      " 16  purpose                      270000 non-null  object \n",
      " 17  title                        269957 non-null  object \n",
      " 18  zip_code                     270000 non-null  object \n",
      " 19  addr_state                   270000 non-null  object \n",
      " 20  dti                          270000 non-null  float64\n",
      " 21  delinq_2yrs                  269994 non-null  float64\n",
      " 22  inq_last_6mths               269994 non-null  float64\n",
      " 23  mths_since_last_delinq       131498 non-null  float64\n",
      " 24  mths_since_last_record       41289 non-null   float64\n",
      " 25  open_acc                     269994 non-null  float64\n",
      " 26  pub_rec                      269994 non-null  float64\n",
      " 27  revol_bal                    270000 non-null  int64  \n",
      " 28  revol_util                   269852 non-null  float64\n",
      " 29  total_acc                    269994 non-null  float64\n",
      " 30  initial_list_status          270000 non-null  object \n",
      " 31  total_rec_int                270000 non-null  float64\n",
      " 32  total_rec_late_fee           270000 non-null  float64\n",
      " 33  recoveries                   270000 non-null  float64\n",
      " 34  collection_recovery_fee      270000 non-null  float64\n",
      " 35  collections_12_mths_ex_med   269958 non-null  float64\n",
      " 36  mths_since_last_major_derog  67505 non-null   float64\n",
      " 37  application_type             270000 non-null  object \n",
      " 38  verification_status_joint    141 non-null     object \n",
      " 39  last_week_pay                270000 non-null  object \n",
      " 40  acc_now_delinq               269994 non-null  float64\n",
      " 41  tot_coll_amt                 248617 non-null  float64\n",
      " 42  tot_cur_bal                  248617 non-null  float64\n",
      " 43  total_rev_hi_lim             248617 non-null  float64\n",
      " 44  loan_status                  270000 non-null  int64  \n",
      "dtypes: float64(22), int64(5), object(18)\n",
      "memory usage: 92.7+ MB\n"
     ]
    }
   ],
   "source": [
    "raw_data.info()"
   ]
  },
  {
   "cell_type": "code",
   "execution_count": 367,
   "id": "8266220e",
   "metadata": {
    "scrolled": true
   },
   "outputs": [
    {
     "data": {
      "text/html": [
       "<div>\n",
       "<style scoped>\n",
       "    .dataframe tbody tr th:only-of-type {\n",
       "        vertical-align: middle;\n",
       "    }\n",
       "\n",
       "    .dataframe tbody tr th {\n",
       "        vertical-align: top;\n",
       "    }\n",
       "\n",
       "    .dataframe thead th {\n",
       "        text-align: right;\n",
       "    }\n",
       "</style>\n",
       "<table border=\"1\" class=\"dataframe\">\n",
       "  <thead>\n",
       "    <tr style=\"text-align: right;\">\n",
       "      <th></th>\n",
       "      <th>member_id</th>\n",
       "      <th>loan_amnt</th>\n",
       "      <th>funded_amnt</th>\n",
       "      <th>funded_amnt_inv</th>\n",
       "      <th>int_rate</th>\n",
       "      <th>annual_inc</th>\n",
       "      <th>dti</th>\n",
       "      <th>delinq_2yrs</th>\n",
       "      <th>inq_last_6mths</th>\n",
       "      <th>mths_since_last_delinq</th>\n",
       "      <th>...</th>\n",
       "      <th>total_rec_late_fee</th>\n",
       "      <th>recoveries</th>\n",
       "      <th>collection_recovery_fee</th>\n",
       "      <th>collections_12_mths_ex_med</th>\n",
       "      <th>mths_since_last_major_derog</th>\n",
       "      <th>acc_now_delinq</th>\n",
       "      <th>tot_coll_amt</th>\n",
       "      <th>tot_cur_bal</th>\n",
       "      <th>total_rev_hi_lim</th>\n",
       "      <th>loan_status</th>\n",
       "    </tr>\n",
       "  </thead>\n",
       "  <tbody>\n",
       "    <tr>\n",
       "      <th>count</th>\n",
       "      <td>2.700000e+05</td>\n",
       "      <td>270000.000000</td>\n",
       "      <td>270000.000000</td>\n",
       "      <td>270000.000000</td>\n",
       "      <td>270000.000000</td>\n",
       "      <td>2.699980e+05</td>\n",
       "      <td>270000.000000</td>\n",
       "      <td>269994.000000</td>\n",
       "      <td>269994.000000</td>\n",
       "      <td>131498.000000</td>\n",
       "      <td>...</td>\n",
       "      <td>270000.000000</td>\n",
       "      <td>270000.000000</td>\n",
       "      <td>270000.000000</td>\n",
       "      <td>269958.000000</td>\n",
       "      <td>67505.000000</td>\n",
       "      <td>269994.000000</td>\n",
       "      <td>248617.000000</td>\n",
       "      <td>2.486170e+05</td>\n",
       "      <td>2.486170e+05</td>\n",
       "      <td>270000.000000</td>\n",
       "    </tr>\n",
       "    <tr>\n",
       "      <th>mean</th>\n",
       "      <td>3.500089e+07</td>\n",
       "      <td>14749.904167</td>\n",
       "      <td>14736.266296</td>\n",
       "      <td>14696.206530</td>\n",
       "      <td>13.243335</td>\n",
       "      <td>7.506215e+04</td>\n",
       "      <td>18.128041</td>\n",
       "      <td>0.315822</td>\n",
       "      <td>0.694182</td>\n",
       "      <td>34.003749</td>\n",
       "      <td>...</td>\n",
       "      <td>0.402963</td>\n",
       "      <td>45.419585</td>\n",
       "      <td>4.805591</td>\n",
       "      <td>0.014261</td>\n",
       "      <td>44.058633</td>\n",
       "      <td>0.004930</td>\n",
       "      <td>213.969358</td>\n",
       "      <td>1.395263e+05</td>\n",
       "      <td>3.207576e+04</td>\n",
       "      <td>0.236378</td>\n",
       "    </tr>\n",
       "    <tr>\n",
       "      <th>std</th>\n",
       "      <td>2.413323e+07</td>\n",
       "      <td>8427.573821</td>\n",
       "      <td>8421.906894</td>\n",
       "      <td>8434.618225</td>\n",
       "      <td>4.379194</td>\n",
       "      <td>6.485241e+04</td>\n",
       "      <td>8.307225</td>\n",
       "      <td>0.868445</td>\n",
       "      <td>0.994583</td>\n",
       "      <td>21.851861</td>\n",
       "      <td>...</td>\n",
       "      <td>4.220959</td>\n",
       "      <td>397.525840</td>\n",
       "      <td>60.381161</td>\n",
       "      <td>0.133470</td>\n",
       "      <td>22.172078</td>\n",
       "      <td>0.076895</td>\n",
       "      <td>2029.834018</td>\n",
       "      <td>1.531235e+05</td>\n",
       "      <td>3.762495e+04</td>\n",
       "      <td>0.424858</td>\n",
       "    </tr>\n",
       "    <tr>\n",
       "      <th>min</th>\n",
       "      <td>7.047300e+04</td>\n",
       "      <td>500.000000</td>\n",
       "      <td>500.000000</td>\n",
       "      <td>0.000000</td>\n",
       "      <td>5.320000</td>\n",
       "      <td>1.896000e+03</td>\n",
       "      <td>0.000000</td>\n",
       "      <td>0.000000</td>\n",
       "      <td>0.000000</td>\n",
       "      <td>0.000000</td>\n",
       "      <td>...</td>\n",
       "      <td>0.000000</td>\n",
       "      <td>0.000000</td>\n",
       "      <td>0.000000</td>\n",
       "      <td>0.000000</td>\n",
       "      <td>0.000000</td>\n",
       "      <td>0.000000</td>\n",
       "      <td>0.000000</td>\n",
       "      <td>0.000000e+00</td>\n",
       "      <td>0.000000e+00</td>\n",
       "      <td>0.000000</td>\n",
       "    </tr>\n",
       "    <tr>\n",
       "      <th>25%</th>\n",
       "      <td>1.085953e+07</td>\n",
       "      <td>8000.000000</td>\n",
       "      <td>8000.000000</td>\n",
       "      <td>8000.000000</td>\n",
       "      <td>9.990000</td>\n",
       "      <td>4.500000e+04</td>\n",
       "      <td>11.910000</td>\n",
       "      <td>0.000000</td>\n",
       "      <td>0.000000</td>\n",
       "      <td>15.000000</td>\n",
       "      <td>...</td>\n",
       "      <td>0.000000</td>\n",
       "      <td>0.000000</td>\n",
       "      <td>0.000000</td>\n",
       "      <td>0.000000</td>\n",
       "      <td>27.000000</td>\n",
       "      <td>0.000000</td>\n",
       "      <td>0.000000</td>\n",
       "      <td>2.981800e+04</td>\n",
       "      <td>1.400000e+04</td>\n",
       "      <td>0.000000</td>\n",
       "    </tr>\n",
       "    <tr>\n",
       "      <th>50%</th>\n",
       "      <td>3.709728e+07</td>\n",
       "      <td>13000.000000</td>\n",
       "      <td>13000.000000</td>\n",
       "      <td>13000.000000</td>\n",
       "      <td>12.990000</td>\n",
       "      <td>6.485750e+04</td>\n",
       "      <td>17.630000</td>\n",
       "      <td>0.000000</td>\n",
       "      <td>0.000000</td>\n",
       "      <td>31.000000</td>\n",
       "      <td>...</td>\n",
       "      <td>0.000000</td>\n",
       "      <td>0.000000</td>\n",
       "      <td>0.000000</td>\n",
       "      <td>0.000000</td>\n",
       "      <td>44.000000</td>\n",
       "      <td>0.000000</td>\n",
       "      <td>0.000000</td>\n",
       "      <td>8.033500e+04</td>\n",
       "      <td>2.380000e+04</td>\n",
       "      <td>0.000000</td>\n",
       "    </tr>\n",
       "    <tr>\n",
       "      <th>75%</th>\n",
       "      <td>5.851962e+07</td>\n",
       "      <td>20000.000000</td>\n",
       "      <td>20000.000000</td>\n",
       "      <td>20000.000000</td>\n",
       "      <td>16.200000</td>\n",
       "      <td>9.000000e+04</td>\n",
       "      <td>23.940000</td>\n",
       "      <td>0.000000</td>\n",
       "      <td>1.000000</td>\n",
       "      <td>50.000000</td>\n",
       "      <td>...</td>\n",
       "      <td>0.000000</td>\n",
       "      <td>0.000000</td>\n",
       "      <td>0.000000</td>\n",
       "      <td>0.000000</td>\n",
       "      <td>61.000000</td>\n",
       "      <td>0.000000</td>\n",
       "      <td>0.000000</td>\n",
       "      <td>2.085710e+05</td>\n",
       "      <td>3.990000e+04</td>\n",
       "      <td>0.000000</td>\n",
       "    </tr>\n",
       "    <tr>\n",
       "      <th>max</th>\n",
       "      <td>7.354484e+07</td>\n",
       "      <td>35000.000000</td>\n",
       "      <td>35000.000000</td>\n",
       "      <td>35000.000000</td>\n",
       "      <td>28.990000</td>\n",
       "      <td>9.500000e+06</td>\n",
       "      <td>137.400000</td>\n",
       "      <td>30.000000</td>\n",
       "      <td>28.000000</td>\n",
       "      <td>176.000000</td>\n",
       "      <td>...</td>\n",
       "      <td>358.680000</td>\n",
       "      <td>29623.350000</td>\n",
       "      <td>7002.190000</td>\n",
       "      <td>16.000000</td>\n",
       "      <td>176.000000</td>\n",
       "      <td>5.000000</td>\n",
       "      <td>496651.000000</td>\n",
       "      <td>3.840795e+06</td>\n",
       "      <td>9.999999e+06</td>\n",
       "      <td>1.000000</td>\n",
       "    </tr>\n",
       "  </tbody>\n",
       "</table>\n",
       "<p>8 rows × 27 columns</p>\n",
       "</div>"
      ],
      "text/plain": [
       "          member_id      loan_amnt    funded_amnt  funded_amnt_inv  \\\n",
       "count  2.700000e+05  270000.000000  270000.000000    270000.000000   \n",
       "mean   3.500089e+07   14749.904167   14736.266296     14696.206530   \n",
       "std    2.413323e+07    8427.573821    8421.906894      8434.618225   \n",
       "min    7.047300e+04     500.000000     500.000000         0.000000   \n",
       "25%    1.085953e+07    8000.000000    8000.000000      8000.000000   \n",
       "50%    3.709728e+07   13000.000000   13000.000000     13000.000000   \n",
       "75%    5.851962e+07   20000.000000   20000.000000     20000.000000   \n",
       "max    7.354484e+07   35000.000000   35000.000000     35000.000000   \n",
       "\n",
       "            int_rate    annual_inc            dti    delinq_2yrs  \\\n",
       "count  270000.000000  2.699980e+05  270000.000000  269994.000000   \n",
       "mean       13.243335  7.506215e+04      18.128041       0.315822   \n",
       "std         4.379194  6.485241e+04       8.307225       0.868445   \n",
       "min         5.320000  1.896000e+03       0.000000       0.000000   \n",
       "25%         9.990000  4.500000e+04      11.910000       0.000000   \n",
       "50%        12.990000  6.485750e+04      17.630000       0.000000   \n",
       "75%        16.200000  9.000000e+04      23.940000       0.000000   \n",
       "max        28.990000  9.500000e+06     137.400000      30.000000   \n",
       "\n",
       "       inq_last_6mths  mths_since_last_delinq  ...  total_rec_late_fee  \\\n",
       "count   269994.000000           131498.000000  ...       270000.000000   \n",
       "mean         0.694182               34.003749  ...            0.402963   \n",
       "std          0.994583               21.851861  ...            4.220959   \n",
       "min          0.000000                0.000000  ...            0.000000   \n",
       "25%          0.000000               15.000000  ...            0.000000   \n",
       "50%          0.000000               31.000000  ...            0.000000   \n",
       "75%          1.000000               50.000000  ...            0.000000   \n",
       "max         28.000000              176.000000  ...          358.680000   \n",
       "\n",
       "          recoveries  collection_recovery_fee  collections_12_mths_ex_med  \\\n",
       "count  270000.000000            270000.000000               269958.000000   \n",
       "mean       45.419585                 4.805591                    0.014261   \n",
       "std       397.525840                60.381161                    0.133470   \n",
       "min         0.000000                 0.000000                    0.000000   \n",
       "25%         0.000000                 0.000000                    0.000000   \n",
       "50%         0.000000                 0.000000                    0.000000   \n",
       "75%         0.000000                 0.000000                    0.000000   \n",
       "max     29623.350000              7002.190000                   16.000000   \n",
       "\n",
       "       mths_since_last_major_derog  acc_now_delinq   tot_coll_amt  \\\n",
       "count                 67505.000000   269994.000000  248617.000000   \n",
       "mean                     44.058633        0.004930     213.969358   \n",
       "std                      22.172078        0.076895    2029.834018   \n",
       "min                       0.000000        0.000000       0.000000   \n",
       "25%                      27.000000        0.000000       0.000000   \n",
       "50%                      44.000000        0.000000       0.000000   \n",
       "75%                      61.000000        0.000000       0.000000   \n",
       "max                     176.000000        5.000000  496651.000000   \n",
       "\n",
       "        tot_cur_bal  total_rev_hi_lim    loan_status  \n",
       "count  2.486170e+05      2.486170e+05  270000.000000  \n",
       "mean   1.395263e+05      3.207576e+04       0.236378  \n",
       "std    1.531235e+05      3.762495e+04       0.424858  \n",
       "min    0.000000e+00      0.000000e+00       0.000000  \n",
       "25%    2.981800e+04      1.400000e+04       0.000000  \n",
       "50%    8.033500e+04      2.380000e+04       0.000000  \n",
       "75%    2.085710e+05      3.990000e+04       0.000000  \n",
       "max    3.840795e+06      9.999999e+06       1.000000  \n",
       "\n",
       "[8 rows x 27 columns]"
      ]
     },
     "execution_count": 367,
     "metadata": {},
     "output_type": "execute_result"
    }
   ],
   "source": [
    "raw_data.describe()"
   ]
  },
  {
   "cell_type": "markdown",
   "id": "8946eae7",
   "metadata": {},
   "source": [
    "## Check and Handle for null values"
   ]
  },
  {
   "cell_type": "code",
   "execution_count": 368,
   "id": "039a9d70",
   "metadata": {},
   "outputs": [
    {
     "data": {
      "text/plain": [
       "member_id                           0\n",
       "loan_amnt                           0\n",
       "funded_amnt                         0\n",
       "funded_amnt_inv                     0\n",
       "term                                0\n",
       "batch_enrolled                  96875\n",
       "int_rate                            0\n",
       "grade                               0\n",
       "sub_grade                           0\n",
       "emp_title                       15625\n",
       "emp_length                      13630\n",
       "home_ownership                      0\n",
       "annual_inc                          2\n",
       "verification_status                 0\n",
       "pymnt_plan                          0\n",
       "desc                           231621\n",
       "purpose                             0\n",
       "title                              43\n",
       "zip_code                            0\n",
       "addr_state                          0\n",
       "dti                                 0\n",
       "delinq_2yrs                         6\n",
       "inq_last_6mths                      6\n",
       "mths_since_last_delinq         138502\n",
       "mths_since_last_record         228711\n",
       "open_acc                            6\n",
       "pub_rec                             6\n",
       "revol_bal                           0\n",
       "revol_util                        148\n",
       "total_acc                           6\n",
       "initial_list_status                 0\n",
       "total_rec_int                       0\n",
       "total_rec_late_fee                  0\n",
       "recoveries                          0\n",
       "collection_recovery_fee             0\n",
       "collections_12_mths_ex_med         42\n",
       "mths_since_last_major_derog    202495\n",
       "application_type                    0\n",
       "verification_status_joint      269859\n",
       "last_week_pay                       0\n",
       "acc_now_delinq                      6\n",
       "tot_coll_amt                    21383\n",
       "tot_cur_bal                     21383\n",
       "total_rev_hi_lim                21383\n",
       "loan_status                         0\n",
       "dtype: int64"
      ]
     },
     "execution_count": 368,
     "metadata": {},
     "output_type": "execute_result"
    }
   ],
   "source": [
    "raw_data.isna().sum()"
   ]
  },
  {
   "cell_type": "code",
   "execution_count": 369,
   "id": "4dab79ee",
   "metadata": {},
   "outputs": [],
   "source": [
    "raw_data.dropna(subset=['emp_title',\n",
    "'emp_length',\n",
    "'annual_inc',\n",
    "'title',\n",
    "'delinq_2yrs',\n",
    "'inq_last_6mths',\n",
    "'open_acc',\n",
    "'pub_rec',\n",
    "'revol_util',\n",
    "'total_acc',\n",
    "'collections_12_mths_ex_med',\n",
    "'acc_now_delinq',\n",
    "'tot_coll_amt',\n",
    "'tot_cur_bal',\n",
    "'total_rev_hi_lim'],inplace=True)"
   ]
  },
  {
   "cell_type": "code",
   "execution_count": 370,
   "id": "a503ed24",
   "metadata": {},
   "outputs": [],
   "source": [
    "raw_data.fillna('not applicable', inplace=True)"
   ]
  },
  {
   "cell_type": "code",
   "execution_count": 371,
   "id": "ca0db76f",
   "metadata": {},
   "outputs": [
    {
     "data": {
      "text/plain": [
       "member_id                      0\n",
       "loan_amnt                      0\n",
       "funded_amnt                    0\n",
       "funded_amnt_inv                0\n",
       "term                           0\n",
       "batch_enrolled                 0\n",
       "int_rate                       0\n",
       "grade                          0\n",
       "sub_grade                      0\n",
       "emp_title                      0\n",
       "emp_length                     0\n",
       "home_ownership                 0\n",
       "annual_inc                     0\n",
       "verification_status            0\n",
       "pymnt_plan                     0\n",
       "desc                           0\n",
       "purpose                        0\n",
       "title                          0\n",
       "zip_code                       0\n",
       "addr_state                     0\n",
       "dti                            0\n",
       "delinq_2yrs                    0\n",
       "inq_last_6mths                 0\n",
       "mths_since_last_delinq         0\n",
       "mths_since_last_record         0\n",
       "open_acc                       0\n",
       "pub_rec                        0\n",
       "revol_bal                      0\n",
       "revol_util                     0\n",
       "total_acc                      0\n",
       "initial_list_status            0\n",
       "total_rec_int                  0\n",
       "total_rec_late_fee             0\n",
       "recoveries                     0\n",
       "collection_recovery_fee        0\n",
       "collections_12_mths_ex_med     0\n",
       "mths_since_last_major_derog    0\n",
       "application_type               0\n",
       "verification_status_joint      0\n",
       "last_week_pay                  0\n",
       "acc_now_delinq                 0\n",
       "tot_coll_amt                   0\n",
       "tot_cur_bal                    0\n",
       "total_rev_hi_lim               0\n",
       "loan_status                    0\n",
       "dtype: int64"
      ]
     },
     "execution_count": 371,
     "metadata": {},
     "output_type": "execute_result"
    }
   ],
   "source": [
    "raw_data.isna().sum()"
   ]
  },
  {
   "cell_type": "code",
   "execution_count": 372,
   "id": "096e8d6a",
   "metadata": {},
   "outputs": [
    {
     "data": {
      "text/html": [
       "<div>\n",
       "<style scoped>\n",
       "    .dataframe tbody tr th:only-of-type {\n",
       "        vertical-align: middle;\n",
       "    }\n",
       "\n",
       "    .dataframe tbody tr th {\n",
       "        vertical-align: top;\n",
       "    }\n",
       "\n",
       "    .dataframe thead th {\n",
       "        text-align: right;\n",
       "    }\n",
       "</style>\n",
       "<table border=\"1\" class=\"dataframe\">\n",
       "  <thead>\n",
       "    <tr style=\"text-align: right;\">\n",
       "      <th></th>\n",
       "      <th>member_id</th>\n",
       "      <th>loan_amnt</th>\n",
       "      <th>funded_amnt</th>\n",
       "      <th>funded_amnt_inv</th>\n",
       "      <th>term</th>\n",
       "      <th>batch_enrolled</th>\n",
       "      <th>int_rate</th>\n",
       "      <th>grade</th>\n",
       "      <th>sub_grade</th>\n",
       "      <th>emp_title</th>\n",
       "      <th>...</th>\n",
       "      <th>collections_12_mths_ex_med</th>\n",
       "      <th>mths_since_last_major_derog</th>\n",
       "      <th>application_type</th>\n",
       "      <th>verification_status_joint</th>\n",
       "      <th>last_week_pay</th>\n",
       "      <th>acc_now_delinq</th>\n",
       "      <th>tot_coll_amt</th>\n",
       "      <th>tot_cur_bal</th>\n",
       "      <th>total_rev_hi_lim</th>\n",
       "      <th>loan_status</th>\n",
       "    </tr>\n",
       "  </thead>\n",
       "  <tbody>\n",
       "    <tr>\n",
       "      <th>0</th>\n",
       "      <td>58189336</td>\n",
       "      <td>14350</td>\n",
       "      <td>14350</td>\n",
       "      <td>14350.0</td>\n",
       "      <td>36 months</td>\n",
       "      <td>not applicable</td>\n",
       "      <td>19.19</td>\n",
       "      <td>E</td>\n",
       "      <td>E3</td>\n",
       "      <td>clerk</td>\n",
       "      <td>...</td>\n",
       "      <td>0.0</td>\n",
       "      <td>74.0</td>\n",
       "      <td>INDIVIDUAL</td>\n",
       "      <td>not applicable</td>\n",
       "      <td>26th week</td>\n",
       "      <td>0.0</td>\n",
       "      <td>0.0</td>\n",
       "      <td>28699.0</td>\n",
       "      <td>30800.0</td>\n",
       "      <td>0</td>\n",
       "    </tr>\n",
       "    <tr>\n",
       "      <th>1</th>\n",
       "      <td>70011223</td>\n",
       "      <td>4800</td>\n",
       "      <td>4800</td>\n",
       "      <td>4800.0</td>\n",
       "      <td>36 months</td>\n",
       "      <td>BAT1586599</td>\n",
       "      <td>10.99</td>\n",
       "      <td>B</td>\n",
       "      <td>B4</td>\n",
       "      <td>Human Resources Specialist</td>\n",
       "      <td>...</td>\n",
       "      <td>0.0</td>\n",
       "      <td>not applicable</td>\n",
       "      <td>INDIVIDUAL</td>\n",
       "      <td>not applicable</td>\n",
       "      <td>9th week</td>\n",
       "      <td>0.0</td>\n",
       "      <td>0.0</td>\n",
       "      <td>9974.0</td>\n",
       "      <td>32900.0</td>\n",
       "      <td>0</td>\n",
       "    </tr>\n",
       "    <tr>\n",
       "      <th>2</th>\n",
       "      <td>70255675</td>\n",
       "      <td>10000</td>\n",
       "      <td>10000</td>\n",
       "      <td>10000.0</td>\n",
       "      <td>36 months</td>\n",
       "      <td>BAT1586599</td>\n",
       "      <td>7.26</td>\n",
       "      <td>A</td>\n",
       "      <td>A4</td>\n",
       "      <td>Driver</td>\n",
       "      <td>...</td>\n",
       "      <td>0.0</td>\n",
       "      <td>not applicable</td>\n",
       "      <td>INDIVIDUAL</td>\n",
       "      <td>not applicable</td>\n",
       "      <td>9th week</td>\n",
       "      <td>0.0</td>\n",
       "      <td>65.0</td>\n",
       "      <td>38295.0</td>\n",
       "      <td>34900.0</td>\n",
       "      <td>0</td>\n",
       "    </tr>\n",
       "    <tr>\n",
       "      <th>3</th>\n",
       "      <td>1893936</td>\n",
       "      <td>15000</td>\n",
       "      <td>15000</td>\n",
       "      <td>15000.0</td>\n",
       "      <td>36 months</td>\n",
       "      <td>BAT4808022</td>\n",
       "      <td>19.72</td>\n",
       "      <td>D</td>\n",
       "      <td>D5</td>\n",
       "      <td>Us office of Personnel Management</td>\n",
       "      <td>...</td>\n",
       "      <td>0.0</td>\n",
       "      <td>not applicable</td>\n",
       "      <td>INDIVIDUAL</td>\n",
       "      <td>not applicable</td>\n",
       "      <td>135th week</td>\n",
       "      <td>0.0</td>\n",
       "      <td>0.0</td>\n",
       "      <td>55564.0</td>\n",
       "      <td>24700.0</td>\n",
       "      <td>0</td>\n",
       "    </tr>\n",
       "    <tr>\n",
       "      <th>4</th>\n",
       "      <td>7652106</td>\n",
       "      <td>16000</td>\n",
       "      <td>16000</td>\n",
       "      <td>16000.0</td>\n",
       "      <td>36 months</td>\n",
       "      <td>BAT2833642</td>\n",
       "      <td>10.64</td>\n",
       "      <td>B</td>\n",
       "      <td>B2</td>\n",
       "      <td>LAUSD-HOLLYWOOD HIGH SCHOOL</td>\n",
       "      <td>...</td>\n",
       "      <td>0.0</td>\n",
       "      <td>not applicable</td>\n",
       "      <td>INDIVIDUAL</td>\n",
       "      <td>not applicable</td>\n",
       "      <td>96th week</td>\n",
       "      <td>0.0</td>\n",
       "      <td>0.0</td>\n",
       "      <td>47159.0</td>\n",
       "      <td>47033.0</td>\n",
       "      <td>0</td>\n",
       "    </tr>\n",
       "  </tbody>\n",
       "</table>\n",
       "<p>5 rows × 45 columns</p>\n",
       "</div>"
      ],
      "text/plain": [
       "   member_id  loan_amnt  funded_amnt  funded_amnt_inv       term  \\\n",
       "0   58189336      14350        14350          14350.0  36 months   \n",
       "1   70011223       4800         4800           4800.0  36 months   \n",
       "2   70255675      10000        10000          10000.0  36 months   \n",
       "3    1893936      15000        15000          15000.0  36 months   \n",
       "4    7652106      16000        16000          16000.0  36 months   \n",
       "\n",
       "   batch_enrolled  int_rate grade sub_grade  \\\n",
       "0  not applicable     19.19     E        E3   \n",
       "1      BAT1586599     10.99     B        B4   \n",
       "2      BAT1586599      7.26     A        A4   \n",
       "3      BAT4808022     19.72     D        D5   \n",
       "4      BAT2833642     10.64     B        B2   \n",
       "\n",
       "                           emp_title  ... collections_12_mths_ex_med  \\\n",
       "0                              clerk  ...                        0.0   \n",
       "1         Human Resources Specialist  ...                        0.0   \n",
       "2                             Driver  ...                        0.0   \n",
       "3  Us office of Personnel Management  ...                        0.0   \n",
       "4        LAUSD-HOLLYWOOD HIGH SCHOOL  ...                        0.0   \n",
       "\n",
       "  mths_since_last_major_derog  application_type verification_status_joint  \\\n",
       "0                        74.0        INDIVIDUAL            not applicable   \n",
       "1              not applicable        INDIVIDUAL            not applicable   \n",
       "2              not applicable        INDIVIDUAL            not applicable   \n",
       "3              not applicable        INDIVIDUAL            not applicable   \n",
       "4              not applicable        INDIVIDUAL            not applicable   \n",
       "\n",
       "  last_week_pay acc_now_delinq tot_coll_amt tot_cur_bal total_rev_hi_lim  \\\n",
       "0     26th week            0.0          0.0     28699.0          30800.0   \n",
       "1      9th week            0.0          0.0      9974.0          32900.0   \n",
       "2      9th week            0.0         65.0     38295.0          34900.0   \n",
       "3    135th week            0.0          0.0     55564.0          24700.0   \n",
       "4     96th week            0.0          0.0     47159.0          47033.0   \n",
       "\n",
       "  loan_status  \n",
       "0           0  \n",
       "1           0  \n",
       "2           0  \n",
       "3           0  \n",
       "4           0  \n",
       "\n",
       "[5 rows x 45 columns]"
      ]
     },
     "execution_count": 372,
     "metadata": {},
     "output_type": "execute_result"
    }
   ],
   "source": [
    "raw_data.head()"
   ]
  },
  {
   "cell_type": "markdown",
   "id": "e5593a0e",
   "metadata": {},
   "source": [
    "# "
   ]
  },
  {
   "cell_type": "markdown",
   "id": "2b925cbf",
   "metadata": {},
   "source": [
    "## Feature Engineering On Required Columns"
   ]
  },
  {
   "cell_type": "markdown",
   "id": "248f5e6f",
   "metadata": {},
   "source": [
    "### term_in_months column"
   ]
  },
  {
   "cell_type": "code",
   "execution_count": 373,
   "id": "88fa8c0c",
   "metadata": {},
   "outputs": [
    {
     "data": {
      "text/html": [
       "<div>\n",
       "<style scoped>\n",
       "    .dataframe tbody tr th:only-of-type {\n",
       "        vertical-align: middle;\n",
       "    }\n",
       "\n",
       "    .dataframe tbody tr th {\n",
       "        vertical-align: top;\n",
       "    }\n",
       "\n",
       "    .dataframe thead th {\n",
       "        text-align: right;\n",
       "    }\n",
       "</style>\n",
       "<table border=\"1\" class=\"dataframe\">\n",
       "  <thead>\n",
       "    <tr style=\"text-align: right;\">\n",
       "      <th></th>\n",
       "      <th>member_id</th>\n",
       "      <th>loan_amnt</th>\n",
       "      <th>funded_amnt</th>\n",
       "      <th>funded_amnt_inv</th>\n",
       "      <th>batch_enrolled</th>\n",
       "      <th>int_rate</th>\n",
       "      <th>grade</th>\n",
       "      <th>sub_grade</th>\n",
       "      <th>emp_title</th>\n",
       "      <th>emp_length</th>\n",
       "      <th>...</th>\n",
       "      <th>mths_since_last_major_derog</th>\n",
       "      <th>application_type</th>\n",
       "      <th>verification_status_joint</th>\n",
       "      <th>last_week_pay</th>\n",
       "      <th>acc_now_delinq</th>\n",
       "      <th>tot_coll_amt</th>\n",
       "      <th>tot_cur_bal</th>\n",
       "      <th>total_rev_hi_lim</th>\n",
       "      <th>loan_status</th>\n",
       "      <th>term_in_months</th>\n",
       "    </tr>\n",
       "  </thead>\n",
       "  <tbody>\n",
       "    <tr>\n",
       "      <th>0</th>\n",
       "      <td>58189336</td>\n",
       "      <td>14350</td>\n",
       "      <td>14350</td>\n",
       "      <td>14350.0</td>\n",
       "      <td>not applicable</td>\n",
       "      <td>19.19</td>\n",
       "      <td>E</td>\n",
       "      <td>E3</td>\n",
       "      <td>clerk</td>\n",
       "      <td>9 years</td>\n",
       "      <td>...</td>\n",
       "      <td>74.0</td>\n",
       "      <td>INDIVIDUAL</td>\n",
       "      <td>not applicable</td>\n",
       "      <td>26th week</td>\n",
       "      <td>0.0</td>\n",
       "      <td>0.0</td>\n",
       "      <td>28699.0</td>\n",
       "      <td>30800.0</td>\n",
       "      <td>0</td>\n",
       "      <td>36</td>\n",
       "    </tr>\n",
       "    <tr>\n",
       "      <th>1</th>\n",
       "      <td>70011223</td>\n",
       "      <td>4800</td>\n",
       "      <td>4800</td>\n",
       "      <td>4800.0</td>\n",
       "      <td>BAT1586599</td>\n",
       "      <td>10.99</td>\n",
       "      <td>B</td>\n",
       "      <td>B4</td>\n",
       "      <td>Human Resources Specialist</td>\n",
       "      <td>&lt; 1 year</td>\n",
       "      <td>...</td>\n",
       "      <td>not applicable</td>\n",
       "      <td>INDIVIDUAL</td>\n",
       "      <td>not applicable</td>\n",
       "      <td>9th week</td>\n",
       "      <td>0.0</td>\n",
       "      <td>0.0</td>\n",
       "      <td>9974.0</td>\n",
       "      <td>32900.0</td>\n",
       "      <td>0</td>\n",
       "      <td>36</td>\n",
       "    </tr>\n",
       "    <tr>\n",
       "      <th>2</th>\n",
       "      <td>70255675</td>\n",
       "      <td>10000</td>\n",
       "      <td>10000</td>\n",
       "      <td>10000.0</td>\n",
       "      <td>BAT1586599</td>\n",
       "      <td>7.26</td>\n",
       "      <td>A</td>\n",
       "      <td>A4</td>\n",
       "      <td>Driver</td>\n",
       "      <td>2 years</td>\n",
       "      <td>...</td>\n",
       "      <td>not applicable</td>\n",
       "      <td>INDIVIDUAL</td>\n",
       "      <td>not applicable</td>\n",
       "      <td>9th week</td>\n",
       "      <td>0.0</td>\n",
       "      <td>65.0</td>\n",
       "      <td>38295.0</td>\n",
       "      <td>34900.0</td>\n",
       "      <td>0</td>\n",
       "      <td>36</td>\n",
       "    </tr>\n",
       "    <tr>\n",
       "      <th>3</th>\n",
       "      <td>1893936</td>\n",
       "      <td>15000</td>\n",
       "      <td>15000</td>\n",
       "      <td>15000.0</td>\n",
       "      <td>BAT4808022</td>\n",
       "      <td>19.72</td>\n",
       "      <td>D</td>\n",
       "      <td>D5</td>\n",
       "      <td>Us office of Personnel Management</td>\n",
       "      <td>10+ years</td>\n",
       "      <td>...</td>\n",
       "      <td>not applicable</td>\n",
       "      <td>INDIVIDUAL</td>\n",
       "      <td>not applicable</td>\n",
       "      <td>135th week</td>\n",
       "      <td>0.0</td>\n",
       "      <td>0.0</td>\n",
       "      <td>55564.0</td>\n",
       "      <td>24700.0</td>\n",
       "      <td>0</td>\n",
       "      <td>36</td>\n",
       "    </tr>\n",
       "    <tr>\n",
       "      <th>4</th>\n",
       "      <td>7652106</td>\n",
       "      <td>16000</td>\n",
       "      <td>16000</td>\n",
       "      <td>16000.0</td>\n",
       "      <td>BAT2833642</td>\n",
       "      <td>10.64</td>\n",
       "      <td>B</td>\n",
       "      <td>B2</td>\n",
       "      <td>LAUSD-HOLLYWOOD HIGH SCHOOL</td>\n",
       "      <td>10+ years</td>\n",
       "      <td>...</td>\n",
       "      <td>not applicable</td>\n",
       "      <td>INDIVIDUAL</td>\n",
       "      <td>not applicable</td>\n",
       "      <td>96th week</td>\n",
       "      <td>0.0</td>\n",
       "      <td>0.0</td>\n",
       "      <td>47159.0</td>\n",
       "      <td>47033.0</td>\n",
       "      <td>0</td>\n",
       "      <td>36</td>\n",
       "    </tr>\n",
       "  </tbody>\n",
       "</table>\n",
       "<p>5 rows × 45 columns</p>\n",
       "</div>"
      ],
      "text/plain": [
       "   member_id  loan_amnt  funded_amnt  funded_amnt_inv  batch_enrolled  \\\n",
       "0   58189336      14350        14350          14350.0  not applicable   \n",
       "1   70011223       4800         4800           4800.0      BAT1586599   \n",
       "2   70255675      10000        10000          10000.0      BAT1586599   \n",
       "3    1893936      15000        15000          15000.0      BAT4808022   \n",
       "4    7652106      16000        16000          16000.0      BAT2833642   \n",
       "\n",
       "   int_rate grade sub_grade                          emp_title emp_length  \\\n",
       "0     19.19     E        E3                              clerk    9 years   \n",
       "1     10.99     B        B4         Human Resources Specialist   < 1 year   \n",
       "2      7.26     A        A4                             Driver    2 years   \n",
       "3     19.72     D        D5  Us office of Personnel Management  10+ years   \n",
       "4     10.64     B        B2        LAUSD-HOLLYWOOD HIGH SCHOOL  10+ years   \n",
       "\n",
       "   ... mths_since_last_major_derog  application_type  \\\n",
       "0  ...                        74.0        INDIVIDUAL   \n",
       "1  ...              not applicable        INDIVIDUAL   \n",
       "2  ...              not applicable        INDIVIDUAL   \n",
       "3  ...              not applicable        INDIVIDUAL   \n",
       "4  ...              not applicable        INDIVIDUAL   \n",
       "\n",
       "  verification_status_joint last_week_pay acc_now_delinq tot_coll_amt  \\\n",
       "0            not applicable     26th week            0.0          0.0   \n",
       "1            not applicable      9th week            0.0          0.0   \n",
       "2            not applicable      9th week            0.0         65.0   \n",
       "3            not applicable    135th week            0.0          0.0   \n",
       "4            not applicable     96th week            0.0          0.0   \n",
       "\n",
       "  tot_cur_bal total_rev_hi_lim loan_status  term_in_months  \n",
       "0     28699.0          30800.0           0             36   \n",
       "1      9974.0          32900.0           0             36   \n",
       "2     38295.0          34900.0           0             36   \n",
       "3     55564.0          24700.0           0             36   \n",
       "4     47159.0          47033.0           0             36   \n",
       "\n",
       "[5 rows x 45 columns]"
      ]
     },
     "execution_count": 373,
     "metadata": {},
     "output_type": "execute_result"
    }
   ],
   "source": [
    "# Column 'term' values are like xx months\n",
    "# target is to extract the numbers only from this column\n",
    "raw_data['term_in_months'] = raw_data['term'].apply(lambda x: x.split(\"month\")[0])\n",
    "raw_data.drop(['term'], axis=1, inplace=True)\n",
    "raw_data.head()"
   ]
  },
  {
   "cell_type": "code",
   "execution_count": 374,
   "id": "8e1855fd",
   "metadata": {
    "scrolled": false
   },
   "outputs": [
    {
     "data": {
      "text/plain": [
       "(234083, 45)"
      ]
     },
     "execution_count": 374,
     "metadata": {},
     "output_type": "execute_result"
    }
   ],
   "source": [
    "raw_data.shape"
   ]
  },
  {
   "cell_type": "markdown",
   "id": "df9267af",
   "metadata": {},
   "source": [
    "### emp_length_years column"
   ]
  },
  {
   "cell_type": "code",
   "execution_count": 375,
   "id": "fe22c1fc",
   "metadata": {},
   "outputs": [
    {
     "data": {
      "text/plain": [
       "array(['9 years', '< 1 year', '2 years', '10+ years', '5 years',\n",
       "       '8 years', '7 years', '4 years', '1 year', '3 years', '6 years'],\n",
       "      dtype=object)"
      ]
     },
     "execution_count": 375,
     "metadata": {},
     "output_type": "execute_result"
    }
   ],
   "source": [
    "raw_data['emp_length'].unique()"
   ]
  },
  {
   "cell_type": "code",
   "execution_count": 376,
   "id": "8adc4c0d",
   "metadata": {},
   "outputs": [
    {
     "data": {
      "text/plain": [
       "array(['9 years', '0 year', '2 years', '10 year', '5 years', '8 years',\n",
       "       '7 years', '4 years', '1 year', '3 years', '6 years'], dtype=object)"
      ]
     },
     "execution_count": 376,
     "metadata": {},
     "output_type": "execute_result"
    }
   ],
   "source": [
    "#As per business document, <1 year should be noted as 0 years\n",
    "#As per business document, anything 10+ and 10 means the same\n",
    "raw_data.loc[raw_data['emp_length'] == '< 1 year', 'emp_length'] = '0 year'\n",
    "raw_data.loc[raw_data['emp_length'] == '10+ years', 'emp_length'] = '10 year'\n",
    "raw_data['emp_length'].unique()"
   ]
  },
  {
   "cell_type": "code",
   "execution_count": 377,
   "id": "a7a1c8f8",
   "metadata": {
    "scrolled": false
   },
   "outputs": [
    {
     "data": {
      "text/html": [
       "<div>\n",
       "<style scoped>\n",
       "    .dataframe tbody tr th:only-of-type {\n",
       "        vertical-align: middle;\n",
       "    }\n",
       "\n",
       "    .dataframe tbody tr th {\n",
       "        vertical-align: top;\n",
       "    }\n",
       "\n",
       "    .dataframe thead th {\n",
       "        text-align: right;\n",
       "    }\n",
       "</style>\n",
       "<table border=\"1\" class=\"dataframe\">\n",
       "  <thead>\n",
       "    <tr style=\"text-align: right;\">\n",
       "      <th></th>\n",
       "      <th>member_id</th>\n",
       "      <th>loan_amnt</th>\n",
       "      <th>funded_amnt</th>\n",
       "      <th>funded_amnt_inv</th>\n",
       "      <th>batch_enrolled</th>\n",
       "      <th>int_rate</th>\n",
       "      <th>grade</th>\n",
       "      <th>sub_grade</th>\n",
       "      <th>emp_title</th>\n",
       "      <th>home_ownership</th>\n",
       "      <th>...</th>\n",
       "      <th>application_type</th>\n",
       "      <th>verification_status_joint</th>\n",
       "      <th>last_week_pay</th>\n",
       "      <th>acc_now_delinq</th>\n",
       "      <th>tot_coll_amt</th>\n",
       "      <th>tot_cur_bal</th>\n",
       "      <th>total_rev_hi_lim</th>\n",
       "      <th>loan_status</th>\n",
       "      <th>term_in_months</th>\n",
       "      <th>emp_length_years</th>\n",
       "    </tr>\n",
       "  </thead>\n",
       "  <tbody>\n",
       "    <tr>\n",
       "      <th>0</th>\n",
       "      <td>58189336</td>\n",
       "      <td>14350</td>\n",
       "      <td>14350</td>\n",
       "      <td>14350.0</td>\n",
       "      <td>not applicable</td>\n",
       "      <td>19.19</td>\n",
       "      <td>E</td>\n",
       "      <td>E3</td>\n",
       "      <td>clerk</td>\n",
       "      <td>OWN</td>\n",
       "      <td>...</td>\n",
       "      <td>INDIVIDUAL</td>\n",
       "      <td>not applicable</td>\n",
       "      <td>26th week</td>\n",
       "      <td>0.0</td>\n",
       "      <td>0.0</td>\n",
       "      <td>28699.0</td>\n",
       "      <td>30800.0</td>\n",
       "      <td>0</td>\n",
       "      <td>36</td>\n",
       "      <td>9</td>\n",
       "    </tr>\n",
       "    <tr>\n",
       "      <th>1</th>\n",
       "      <td>70011223</td>\n",
       "      <td>4800</td>\n",
       "      <td>4800</td>\n",
       "      <td>4800.0</td>\n",
       "      <td>BAT1586599</td>\n",
       "      <td>10.99</td>\n",
       "      <td>B</td>\n",
       "      <td>B4</td>\n",
       "      <td>Human Resources Specialist</td>\n",
       "      <td>MORTGAGE</td>\n",
       "      <td>...</td>\n",
       "      <td>INDIVIDUAL</td>\n",
       "      <td>not applicable</td>\n",
       "      <td>9th week</td>\n",
       "      <td>0.0</td>\n",
       "      <td>0.0</td>\n",
       "      <td>9974.0</td>\n",
       "      <td>32900.0</td>\n",
       "      <td>0</td>\n",
       "      <td>36</td>\n",
       "      <td>0</td>\n",
       "    </tr>\n",
       "    <tr>\n",
       "      <th>2</th>\n",
       "      <td>70255675</td>\n",
       "      <td>10000</td>\n",
       "      <td>10000</td>\n",
       "      <td>10000.0</td>\n",
       "      <td>BAT1586599</td>\n",
       "      <td>7.26</td>\n",
       "      <td>A</td>\n",
       "      <td>A4</td>\n",
       "      <td>Driver</td>\n",
       "      <td>OWN</td>\n",
       "      <td>...</td>\n",
       "      <td>INDIVIDUAL</td>\n",
       "      <td>not applicable</td>\n",
       "      <td>9th week</td>\n",
       "      <td>0.0</td>\n",
       "      <td>65.0</td>\n",
       "      <td>38295.0</td>\n",
       "      <td>34900.0</td>\n",
       "      <td>0</td>\n",
       "      <td>36</td>\n",
       "      <td>2</td>\n",
       "    </tr>\n",
       "    <tr>\n",
       "      <th>3</th>\n",
       "      <td>1893936</td>\n",
       "      <td>15000</td>\n",
       "      <td>15000</td>\n",
       "      <td>15000.0</td>\n",
       "      <td>BAT4808022</td>\n",
       "      <td>19.72</td>\n",
       "      <td>D</td>\n",
       "      <td>D5</td>\n",
       "      <td>Us office of Personnel Management</td>\n",
       "      <td>RENT</td>\n",
       "      <td>...</td>\n",
       "      <td>INDIVIDUAL</td>\n",
       "      <td>not applicable</td>\n",
       "      <td>135th week</td>\n",
       "      <td>0.0</td>\n",
       "      <td>0.0</td>\n",
       "      <td>55564.0</td>\n",
       "      <td>24700.0</td>\n",
       "      <td>0</td>\n",
       "      <td>36</td>\n",
       "      <td>10</td>\n",
       "    </tr>\n",
       "    <tr>\n",
       "      <th>4</th>\n",
       "      <td>7652106</td>\n",
       "      <td>16000</td>\n",
       "      <td>16000</td>\n",
       "      <td>16000.0</td>\n",
       "      <td>BAT2833642</td>\n",
       "      <td>10.64</td>\n",
       "      <td>B</td>\n",
       "      <td>B2</td>\n",
       "      <td>LAUSD-HOLLYWOOD HIGH SCHOOL</td>\n",
       "      <td>RENT</td>\n",
       "      <td>...</td>\n",
       "      <td>INDIVIDUAL</td>\n",
       "      <td>not applicable</td>\n",
       "      <td>96th week</td>\n",
       "      <td>0.0</td>\n",
       "      <td>0.0</td>\n",
       "      <td>47159.0</td>\n",
       "      <td>47033.0</td>\n",
       "      <td>0</td>\n",
       "      <td>36</td>\n",
       "      <td>10</td>\n",
       "    </tr>\n",
       "  </tbody>\n",
       "</table>\n",
       "<p>5 rows × 45 columns</p>\n",
       "</div>"
      ],
      "text/plain": [
       "   member_id  loan_amnt  funded_amnt  funded_amnt_inv  batch_enrolled  \\\n",
       "0   58189336      14350        14350          14350.0  not applicable   \n",
       "1   70011223       4800         4800           4800.0      BAT1586599   \n",
       "2   70255675      10000        10000          10000.0      BAT1586599   \n",
       "3    1893936      15000        15000          15000.0      BAT4808022   \n",
       "4    7652106      16000        16000          16000.0      BAT2833642   \n",
       "\n",
       "   int_rate grade sub_grade                          emp_title home_ownership  \\\n",
       "0     19.19     E        E3                              clerk            OWN   \n",
       "1     10.99     B        B4         Human Resources Specialist       MORTGAGE   \n",
       "2      7.26     A        A4                             Driver            OWN   \n",
       "3     19.72     D        D5  Us office of Personnel Management           RENT   \n",
       "4     10.64     B        B2        LAUSD-HOLLYWOOD HIGH SCHOOL           RENT   \n",
       "\n",
       "   ...  application_type verification_status_joint last_week_pay  \\\n",
       "0  ...        INDIVIDUAL            not applicable     26th week   \n",
       "1  ...        INDIVIDUAL            not applicable      9th week   \n",
       "2  ...        INDIVIDUAL            not applicable      9th week   \n",
       "3  ...        INDIVIDUAL            not applicable    135th week   \n",
       "4  ...        INDIVIDUAL            not applicable     96th week   \n",
       "\n",
       "  acc_now_delinq tot_coll_amt tot_cur_bal total_rev_hi_lim loan_status  \\\n",
       "0            0.0          0.0     28699.0          30800.0           0   \n",
       "1            0.0          0.0      9974.0          32900.0           0   \n",
       "2            0.0         65.0     38295.0          34900.0           0   \n",
       "3            0.0          0.0     55564.0          24700.0           0   \n",
       "4            0.0          0.0     47159.0          47033.0           0   \n",
       "\n",
       "   term_in_months  emp_length_years  \n",
       "0             36                 9   \n",
       "1             36                 0   \n",
       "2             36                 2   \n",
       "3             36                10   \n",
       "4             36                10   \n",
       "\n",
       "[5 rows x 45 columns]"
      ]
     },
     "execution_count": 377,
     "metadata": {},
     "output_type": "execute_result"
    }
   ],
   "source": [
    "raw_data['emp_length_years'] = raw_data['emp_length'].apply(lambda x: x.split(\"year\")[0])\n",
    "raw_data.drop(['emp_length'], axis=1, inplace=True)\n",
    "raw_data.head()"
   ]
  },
  {
   "cell_type": "code",
   "execution_count": 378,
   "id": "c59c0acb",
   "metadata": {},
   "outputs": [
    {
     "data": {
      "text/plain": [
       "10     83010\n",
       "2      21787\n",
       "3      19289\n",
       "0      19218\n",
       "1      15587\n",
       "5      14942\n",
       "4      14172\n",
       "8      12357\n",
       "7      12349\n",
       "6      11644\n",
       "9       9728\n",
       "Name: emp_length_years, dtype: int64"
      ]
     },
     "execution_count": 378,
     "metadata": {},
     "output_type": "execute_result"
    }
   ],
   "source": [
    "raw_data['emp_length_years'].value_counts()"
   ]
  },
  {
   "cell_type": "code",
   "execution_count": 379,
   "id": "21088abf",
   "metadata": {},
   "outputs": [
    {
     "data": {
      "text/plain": [
       "(234083, 45)"
      ]
     },
     "execution_count": 379,
     "metadata": {},
     "output_type": "execute_result"
    }
   ],
   "source": [
    "raw_data.shape"
   ]
  },
  {
   "cell_type": "markdown",
   "id": "85df22cc",
   "metadata": {},
   "source": [
    "### home_ownership column"
   ]
  },
  {
   "cell_type": "code",
   "execution_count": 380,
   "id": "0047b034",
   "metadata": {
    "scrolled": true
   },
   "outputs": [
    {
     "data": {
      "text/plain": [
       "MORTGAGE    118052\n",
       "RENT         93684\n",
       "OWN          22314\n",
       "OTHER           16\n",
       "NONE            15\n",
       "ANY              2\n",
       "Name: home_ownership, dtype: int64"
      ]
     },
     "execution_count": 380,
     "metadata": {},
     "output_type": "execute_result"
    }
   ],
   "source": [
    "# checking unique value counts\n",
    "raw_data['home_ownership'].value_counts()"
   ]
  },
  {
   "cell_type": "code",
   "execution_count": 381,
   "id": "7c360815",
   "metadata": {},
   "outputs": [],
   "source": [
    "# dropping OWN, OTHER and ANY valued rows\n",
    "raw_data.drop(raw_data.index[raw_data['home_ownership'] == 'OTHER'], inplace=True)\n",
    "raw_data.drop(raw_data.index[raw_data['home_ownership'] == 'ANY'], inplace=True)\n",
    "raw_data.drop(raw_data.index[raw_data['home_ownership'] == 'NONE'], inplace=True)"
   ]
  },
  {
   "cell_type": "code",
   "execution_count": 382,
   "id": "48f4c077",
   "metadata": {},
   "outputs": [
    {
     "data": {
      "text/plain": [
       "(234050, 45)"
      ]
     },
     "execution_count": 382,
     "metadata": {},
     "output_type": "execute_result"
    }
   ],
   "source": [
    "raw_data.shape"
   ]
  },
  {
   "cell_type": "markdown",
   "id": "15e2a67e",
   "metadata": {},
   "source": [
    "### verification_status column"
   ]
  },
  {
   "cell_type": "code",
   "execution_count": 383,
   "id": "1b968847",
   "metadata": {},
   "outputs": [
    {
     "data": {
      "text/plain": [
       "Source Verified    91762\n",
       "Verified           71180\n",
       "Not Verified       71108\n",
       "Name: verification_status, dtype: int64"
      ]
     },
     "execution_count": 383,
     "metadata": {},
     "output_type": "execute_result"
    }
   ],
   "source": [
    "raw_data['verification_status'].value_counts()"
   ]
  },
  {
   "cell_type": "code",
   "execution_count": 384,
   "id": "d1947c3c",
   "metadata": {},
   "outputs": [
    {
     "data": {
      "text/plain": [
       "Verified        162942\n",
       "Not Verified     71108\n",
       "Name: verification_status, dtype: int64"
      ]
     },
     "execution_count": 384,
     "metadata": {},
     "output_type": "execute_result"
    }
   ],
   "source": [
    "# changing source verified to verified\n",
    "raw_data.loc[raw_data['verification_status'] == 'Source Verified', 'verification_status'] = 'Verified'\n",
    "\n",
    "raw_data['verification_status'].value_counts()"
   ]
  },
  {
   "cell_type": "code",
   "execution_count": 385,
   "id": "57ccba77",
   "metadata": {},
   "outputs": [
    {
     "data": {
      "text/plain": [
       "(234050, 45)"
      ]
     },
     "execution_count": 385,
     "metadata": {},
     "output_type": "execute_result"
    }
   ],
   "source": [
    "raw_data.shape"
   ]
  },
  {
   "cell_type": "markdown",
   "id": "6f5f66c1",
   "metadata": {},
   "source": [
    "### addr_state column"
   ]
  },
  {
   "cell_type": "code",
   "execution_count": 386,
   "id": "45b1dd34",
   "metadata": {},
   "outputs": [
    {
     "data": {
      "text/plain": [
       "CA    33890\n",
       "NY    19208\n",
       "TX    18957\n",
       "FL    15712\n",
       "IL     9497\n",
       "NJ     8939\n",
       "PA     8239\n",
       "OH     7865\n",
       "GA     7611\n",
       "VA     6986\n",
       "NC     6500\n",
       "MI     6009\n",
       "MD     5551\n",
       "MA     5403\n",
       "AZ     5336\n",
       "WA     5182\n",
       "CO     4985\n",
       "MN     4351\n",
       "IN     3937\n",
       "MO     3771\n",
       "TN     3671\n",
       "CT     3518\n",
       "NV     3221\n",
       "WI     3006\n",
       "AL     2966\n",
       "OR     2843\n",
       "LA     2768\n",
       "SC     2757\n",
       "KY     2264\n",
       "KS     2143\n",
       "OK     2121\n",
       "UT     1707\n",
       "AR     1696\n",
       "NM     1304\n",
       "NH     1183\n",
       "WV     1158\n",
       "HI     1141\n",
       "RI     1062\n",
       "MS     1009\n",
       "DE      650\n",
       "MT      638\n",
       "DC      614\n",
       "AK      589\n",
       "WY      535\n",
       "VT      482\n",
       "SD      477\n",
       "NE      322\n",
       "ME      138\n",
       "ND      136\n",
       "ID        1\n",
       "IA        1\n",
       "Name: addr_state, dtype: int64"
      ]
     },
     "execution_count": 386,
     "metadata": {},
     "output_type": "execute_result"
    }
   ],
   "source": [
    "raw_data['addr_state'].value_counts()"
   ]
  },
  {
   "cell_type": "markdown",
   "id": "253795b5",
   "metadata": {},
   "source": [
    "### initial_list_status column"
   ]
  },
  {
   "cell_type": "code",
   "execution_count": 387,
   "id": "69c0b7f4",
   "metadata": {},
   "outputs": [
    {
     "data": {
      "text/plain": [
       "w    123910\n",
       "f    110140\n",
       "Name: initial_list_status, dtype: int64"
      ]
     },
     "execution_count": 387,
     "metadata": {},
     "output_type": "execute_result"
    }
   ],
   "source": [
    "raw_data['initial_list_status'].value_counts()"
   ]
  },
  {
   "cell_type": "markdown",
   "id": "d7760665",
   "metadata": {},
   "source": [
    "### application_type column"
   ]
  },
  {
   "cell_type": "code",
   "execution_count": 388,
   "id": "5eabedc7",
   "metadata": {},
   "outputs": [
    {
     "data": {
      "text/plain": [
       "INDIVIDUAL    233931\n",
       "JOINT            119\n",
       "Name: application_type, dtype: int64"
      ]
     },
     "execution_count": 388,
     "metadata": {},
     "output_type": "execute_result"
    }
   ],
   "source": [
    "raw_data['application_type'].value_counts()"
   ]
  },
  {
   "cell_type": "markdown",
   "id": "cda0ca78",
   "metadata": {},
   "source": [
    "###  verification_status_joint column"
   ]
  },
  {
   "cell_type": "code",
   "execution_count": 389,
   "id": "10436afd",
   "metadata": {},
   "outputs": [
    {
     "data": {
      "text/plain": [
       "not applicable     233931\n",
       "Not Verified           66\n",
       "Verified               45\n",
       "Source Verified         8\n",
       "Name: verification_status_joint, dtype: int64"
      ]
     },
     "execution_count": 389,
     "metadata": {},
     "output_type": "execute_result"
    }
   ],
   "source": [
    "raw_data['verification_status_joint'].value_counts()"
   ]
  },
  {
   "cell_type": "code",
   "execution_count": 390,
   "id": "00138090",
   "metadata": {
    "scrolled": false
   },
   "outputs": [
    {
     "data": {
      "text/plain": [
       "not applicable    233931\n",
       "Not Verified          66\n",
       "Verified              53\n",
       "Name: verification_status_joint, dtype: int64"
      ]
     },
     "execution_count": 390,
     "metadata": {},
     "output_type": "execute_result"
    }
   ],
   "source": [
    "raw_data.loc[raw_data['verification_status_joint'] == 'Source Verified', 'verification_status_joint'] = 'Verified'\n",
    "\n",
    "raw_data['verification_status_joint'].value_counts()"
   ]
  },
  {
   "cell_type": "markdown",
   "id": "daff6b54",
   "metadata": {},
   "source": [
    "### mths_since_last_record and mths_since_last_major_derog column"
   ]
  },
  {
   "cell_type": "code",
   "execution_count": 391,
   "id": "607db5e7",
   "metadata": {},
   "outputs": [],
   "source": [
    "raw_data.loc[raw_data['mths_since_last_record'] == 'not applicable', 'mths_since_last_record'] = 0\n",
    "raw_data.loc[raw_data['mths_since_last_major_derog'] == 'not applicable', 'mths_since_last_major_derog'] = 0\n",
    "raw_data.loc[raw_data['mths_since_last_delinq'] == 'not applicable', 'mths_since_last_delinq'] = 0"
   ]
  },
  {
   "cell_type": "markdown",
   "id": "5be29ea8",
   "metadata": {},
   "source": [
    "### last_week_pay column"
   ]
  },
  {
   "cell_type": "code",
   "execution_count": 392,
   "id": "f337a1e7",
   "metadata": {},
   "outputs": [
    {
     "data": {
      "text/plain": [
       "13th week     14199\n",
       "9th week      13445\n",
       "26th week     12822\n",
       "22th week     12147\n",
       "4th week      12145\n",
       "35th week     11164\n",
       "39th week     11076\n",
       "17th week     10522\n",
       "31th week     10415\n",
       "52th week      8885\n",
       "65th week      8857\n",
       "48th week      8743\n",
       "61th week      8268\n",
       "78th week      6549\n",
       "74th week      6068\n",
       "87th week      5055\n",
       "NAth week      4970\n",
       "91th week      4912\n",
       "44th week      4856\n",
       "83th week      4433\n",
       "70th week      4291\n",
       "43th week      3647\n",
       "57th week      3558\n",
       "100th week     3440\n",
       "109th week     3351\n",
       "104th week     3243\n",
       "96th week      2784\n",
       "113th week     2767\n",
       "117th week     2683\n",
       "156th week     2313\n",
       "56th week      2309\n",
       "122th week     2229\n",
       "126th week     2211\n",
       "135th week     1728\n",
       "131th week     1520\n",
       "30th week      1474\n",
       "139th week     1439\n",
       "95th week      1226\n",
       "148th week     1157\n",
       "144th week     1036\n",
       "152th week      990\n",
       "82th week       846\n",
       "18th week       716\n",
       "130th week      617\n",
       "69th week       603\n",
       "161th week      575\n",
       "0th week        406\n",
       "8th week        278\n",
       "143th week      219\n",
       "21th week       197\n",
       "165th week      153\n",
       "121th week      125\n",
       "170th week      109\n",
       "174th week       88\n",
       "92th week        79\n",
       "108th week       65\n",
       "169th week       35\n",
       "178th week       12\n",
       "Name: last_week_pay, dtype: int64"
      ]
     },
     "execution_count": 392,
     "metadata": {},
     "output_type": "execute_result"
    }
   ],
   "source": [
    "raw_data['last_week_pay'].value_counts()"
   ]
  },
  {
   "cell_type": "code",
   "execution_count": 393,
   "id": "322cd345",
   "metadata": {
    "scrolled": true
   },
   "outputs": [
    {
     "data": {
      "text/html": [
       "<div>\n",
       "<style scoped>\n",
       "    .dataframe tbody tr th:only-of-type {\n",
       "        vertical-align: middle;\n",
       "    }\n",
       "\n",
       "    .dataframe tbody tr th {\n",
       "        vertical-align: top;\n",
       "    }\n",
       "\n",
       "    .dataframe thead th {\n",
       "        text-align: right;\n",
       "    }\n",
       "</style>\n",
       "<table border=\"1\" class=\"dataframe\">\n",
       "  <thead>\n",
       "    <tr style=\"text-align: right;\">\n",
       "      <th></th>\n",
       "      <th>member_id</th>\n",
       "      <th>loan_amnt</th>\n",
       "      <th>funded_amnt</th>\n",
       "      <th>funded_amnt_inv</th>\n",
       "      <th>batch_enrolled</th>\n",
       "      <th>int_rate</th>\n",
       "      <th>grade</th>\n",
       "      <th>sub_grade</th>\n",
       "      <th>emp_title</th>\n",
       "      <th>home_ownership</th>\n",
       "      <th>...</th>\n",
       "      <th>application_type</th>\n",
       "      <th>verification_status_joint</th>\n",
       "      <th>acc_now_delinq</th>\n",
       "      <th>tot_coll_amt</th>\n",
       "      <th>tot_cur_bal</th>\n",
       "      <th>total_rev_hi_lim</th>\n",
       "      <th>loan_status</th>\n",
       "      <th>term_in_months</th>\n",
       "      <th>emp_length_years</th>\n",
       "      <th>last_week_pay_week</th>\n",
       "    </tr>\n",
       "  </thead>\n",
       "  <tbody>\n",
       "    <tr>\n",
       "      <th>0</th>\n",
       "      <td>58189336</td>\n",
       "      <td>14350</td>\n",
       "      <td>14350</td>\n",
       "      <td>14350.0</td>\n",
       "      <td>not applicable</td>\n",
       "      <td>19.19</td>\n",
       "      <td>E</td>\n",
       "      <td>E3</td>\n",
       "      <td>clerk</td>\n",
       "      <td>OWN</td>\n",
       "      <td>...</td>\n",
       "      <td>INDIVIDUAL</td>\n",
       "      <td>not applicable</td>\n",
       "      <td>0.0</td>\n",
       "      <td>0.0</td>\n",
       "      <td>28699.0</td>\n",
       "      <td>30800.0</td>\n",
       "      <td>0</td>\n",
       "      <td>36</td>\n",
       "      <td>9</td>\n",
       "      <td>26</td>\n",
       "    </tr>\n",
       "    <tr>\n",
       "      <th>1</th>\n",
       "      <td>70011223</td>\n",
       "      <td>4800</td>\n",
       "      <td>4800</td>\n",
       "      <td>4800.0</td>\n",
       "      <td>BAT1586599</td>\n",
       "      <td>10.99</td>\n",
       "      <td>B</td>\n",
       "      <td>B4</td>\n",
       "      <td>Human Resources Specialist</td>\n",
       "      <td>MORTGAGE</td>\n",
       "      <td>...</td>\n",
       "      <td>INDIVIDUAL</td>\n",
       "      <td>not applicable</td>\n",
       "      <td>0.0</td>\n",
       "      <td>0.0</td>\n",
       "      <td>9974.0</td>\n",
       "      <td>32900.0</td>\n",
       "      <td>0</td>\n",
       "      <td>36</td>\n",
       "      <td>0</td>\n",
       "      <td>9</td>\n",
       "    </tr>\n",
       "    <tr>\n",
       "      <th>2</th>\n",
       "      <td>70255675</td>\n",
       "      <td>10000</td>\n",
       "      <td>10000</td>\n",
       "      <td>10000.0</td>\n",
       "      <td>BAT1586599</td>\n",
       "      <td>7.26</td>\n",
       "      <td>A</td>\n",
       "      <td>A4</td>\n",
       "      <td>Driver</td>\n",
       "      <td>OWN</td>\n",
       "      <td>...</td>\n",
       "      <td>INDIVIDUAL</td>\n",
       "      <td>not applicable</td>\n",
       "      <td>0.0</td>\n",
       "      <td>65.0</td>\n",
       "      <td>38295.0</td>\n",
       "      <td>34900.0</td>\n",
       "      <td>0</td>\n",
       "      <td>36</td>\n",
       "      <td>2</td>\n",
       "      <td>9</td>\n",
       "    </tr>\n",
       "    <tr>\n",
       "      <th>3</th>\n",
       "      <td>1893936</td>\n",
       "      <td>15000</td>\n",
       "      <td>15000</td>\n",
       "      <td>15000.0</td>\n",
       "      <td>BAT4808022</td>\n",
       "      <td>19.72</td>\n",
       "      <td>D</td>\n",
       "      <td>D5</td>\n",
       "      <td>Us office of Personnel Management</td>\n",
       "      <td>RENT</td>\n",
       "      <td>...</td>\n",
       "      <td>INDIVIDUAL</td>\n",
       "      <td>not applicable</td>\n",
       "      <td>0.0</td>\n",
       "      <td>0.0</td>\n",
       "      <td>55564.0</td>\n",
       "      <td>24700.0</td>\n",
       "      <td>0</td>\n",
       "      <td>36</td>\n",
       "      <td>10</td>\n",
       "      <td>135</td>\n",
       "    </tr>\n",
       "    <tr>\n",
       "      <th>4</th>\n",
       "      <td>7652106</td>\n",
       "      <td>16000</td>\n",
       "      <td>16000</td>\n",
       "      <td>16000.0</td>\n",
       "      <td>BAT2833642</td>\n",
       "      <td>10.64</td>\n",
       "      <td>B</td>\n",
       "      <td>B2</td>\n",
       "      <td>LAUSD-HOLLYWOOD HIGH SCHOOL</td>\n",
       "      <td>RENT</td>\n",
       "      <td>...</td>\n",
       "      <td>INDIVIDUAL</td>\n",
       "      <td>not applicable</td>\n",
       "      <td>0.0</td>\n",
       "      <td>0.0</td>\n",
       "      <td>47159.0</td>\n",
       "      <td>47033.0</td>\n",
       "      <td>0</td>\n",
       "      <td>36</td>\n",
       "      <td>10</td>\n",
       "      <td>96</td>\n",
       "    </tr>\n",
       "  </tbody>\n",
       "</table>\n",
       "<p>5 rows × 45 columns</p>\n",
       "</div>"
      ],
      "text/plain": [
       "   member_id  loan_amnt  funded_amnt  funded_amnt_inv  batch_enrolled  \\\n",
       "0   58189336      14350        14350          14350.0  not applicable   \n",
       "1   70011223       4800         4800           4800.0      BAT1586599   \n",
       "2   70255675      10000        10000          10000.0      BAT1586599   \n",
       "3    1893936      15000        15000          15000.0      BAT4808022   \n",
       "4    7652106      16000        16000          16000.0      BAT2833642   \n",
       "\n",
       "   int_rate grade sub_grade                          emp_title home_ownership  \\\n",
       "0     19.19     E        E3                              clerk            OWN   \n",
       "1     10.99     B        B4         Human Resources Specialist       MORTGAGE   \n",
       "2      7.26     A        A4                             Driver            OWN   \n",
       "3     19.72     D        D5  Us office of Personnel Management           RENT   \n",
       "4     10.64     B        B2        LAUSD-HOLLYWOOD HIGH SCHOOL           RENT   \n",
       "\n",
       "   ...  application_type verification_status_joint acc_now_delinq  \\\n",
       "0  ...        INDIVIDUAL            not applicable            0.0   \n",
       "1  ...        INDIVIDUAL            not applicable            0.0   \n",
       "2  ...        INDIVIDUAL            not applicable            0.0   \n",
       "3  ...        INDIVIDUAL            not applicable            0.0   \n",
       "4  ...        INDIVIDUAL            not applicable            0.0   \n",
       "\n",
       "  tot_coll_amt tot_cur_bal total_rev_hi_lim loan_status term_in_months  \\\n",
       "0          0.0     28699.0          30800.0           0            36    \n",
       "1          0.0      9974.0          32900.0           0            36    \n",
       "2         65.0     38295.0          34900.0           0            36    \n",
       "3          0.0     55564.0          24700.0           0            36    \n",
       "4          0.0     47159.0          47033.0           0            36    \n",
       "\n",
       "   emp_length_years  last_week_pay_week  \n",
       "0                9                   26  \n",
       "1                0                    9  \n",
       "2                2                    9  \n",
       "3               10                  135  \n",
       "4               10                   96  \n",
       "\n",
       "[5 rows x 45 columns]"
      ]
     },
     "execution_count": 393,
     "metadata": {},
     "output_type": "execute_result"
    }
   ],
   "source": [
    "# Column 'last_week_pay' values are like xx th week\n",
    "# target is to extract the numbers only from this column\n",
    "raw_data['last_week_pay_week'] = raw_data['last_week_pay'].apply(lambda x: x.split(\"th\")[0])\n",
    "raw_data.drop(['last_week_pay'], axis=1, inplace=True)\n",
    "raw_data.head()"
   ]
  },
  {
   "cell_type": "code",
   "execution_count": 394,
   "id": "7d592cf8",
   "metadata": {},
   "outputs": [],
   "source": [
    "# drop NA values\n",
    "raw_data.drop(raw_data.index[raw_data['last_week_pay_week'] == 'NA'], inplace=True)"
   ]
  },
  {
   "cell_type": "code",
   "execution_count": 395,
   "id": "dcf39077",
   "metadata": {},
   "outputs": [
    {
     "data": {
      "text/plain": [
       "(229080, 45)"
      ]
     },
     "execution_count": 395,
     "metadata": {},
     "output_type": "execute_result"
    }
   ],
   "source": [
    "raw_data.shape"
   ]
  },
  {
   "cell_type": "code",
   "execution_count": 396,
   "id": "eba3990b",
   "metadata": {},
   "outputs": [
    {
     "name": "stdout",
     "output_type": "stream",
     "text": [
      "<class 'pandas.core.frame.DataFrame'>\n",
      "Int64Index: 229080 entries, 0 to 269999\n",
      "Data columns (total 45 columns):\n",
      " #   Column                       Non-Null Count   Dtype  \n",
      "---  ------                       --------------   -----  \n",
      " 0   member_id                    229080 non-null  int64  \n",
      " 1   loan_amnt                    229080 non-null  int64  \n",
      " 2   funded_amnt                  229080 non-null  int64  \n",
      " 3   funded_amnt_inv              229080 non-null  float64\n",
      " 4   batch_enrolled               229080 non-null  object \n",
      " 5   int_rate                     229080 non-null  float64\n",
      " 6   grade                        229080 non-null  object \n",
      " 7   sub_grade                    229080 non-null  object \n",
      " 8   emp_title                    229080 non-null  object \n",
      " 9   home_ownership               229080 non-null  object \n",
      " 10  annual_inc                   229080 non-null  float64\n",
      " 11  verification_status          229080 non-null  object \n",
      " 12  pymnt_plan                   229080 non-null  object \n",
      " 13  desc                         229080 non-null  object \n",
      " 14  purpose                      229080 non-null  object \n",
      " 15  title                        229080 non-null  object \n",
      " 16  zip_code                     229080 non-null  object \n",
      " 17  addr_state                   229080 non-null  object \n",
      " 18  dti                          229080 non-null  float64\n",
      " 19  delinq_2yrs                  229080 non-null  float64\n",
      " 20  inq_last_6mths               229080 non-null  float64\n",
      " 21  mths_since_last_delinq       229080 non-null  object \n",
      " 22  mths_since_last_record       229080 non-null  object \n",
      " 23  open_acc                     229080 non-null  float64\n",
      " 24  pub_rec                      229080 non-null  float64\n",
      " 25  revol_bal                    229080 non-null  int64  \n",
      " 26  revol_util                   229080 non-null  float64\n",
      " 27  total_acc                    229080 non-null  float64\n",
      " 28  initial_list_status          229080 non-null  object \n",
      " 29  total_rec_int                229080 non-null  float64\n",
      " 30  total_rec_late_fee           229080 non-null  float64\n",
      " 31  recoveries                   229080 non-null  float64\n",
      " 32  collection_recovery_fee      229080 non-null  float64\n",
      " 33  collections_12_mths_ex_med   229080 non-null  float64\n",
      " 34  mths_since_last_major_derog  229080 non-null  object \n",
      " 35  application_type             229080 non-null  object \n",
      " 36  verification_status_joint    229080 non-null  object \n",
      " 37  acc_now_delinq               229080 non-null  float64\n",
      " 38  tot_coll_amt                 229080 non-null  float64\n",
      " 39  tot_cur_bal                  229080 non-null  float64\n",
      " 40  total_rev_hi_lim             229080 non-null  float64\n",
      " 41  loan_status                  229080 non-null  int64  \n",
      " 42  term_in_months               229080 non-null  object \n",
      " 43  emp_length_years             229080 non-null  object \n",
      " 44  last_week_pay_week           229080 non-null  object \n",
      "dtypes: float64(19), int64(5), object(21)\n",
      "memory usage: 80.4+ MB\n"
     ]
    }
   ],
   "source": [
    "raw_data.info()"
   ]
  },
  {
   "cell_type": "code",
   "execution_count": 397,
   "id": "cd5c760f",
   "metadata": {},
   "outputs": [],
   "source": [
    "raw_data['term_in_months'] = raw_data['term_in_months'].astype(float, errors='raise')\n",
    "raw_data['emp_length_years'] = raw_data['emp_length_years'].astype(float, errors='raise')\n",
    "raw_data['last_week_pay_week'] = raw_data['last_week_pay_week'].astype(float, errors='raise')"
   ]
  },
  {
   "cell_type": "code",
   "execution_count": 398,
   "id": "774f3cc3",
   "metadata": {},
   "outputs": [
    {
     "name": "stdout",
     "output_type": "stream",
     "text": [
      "<class 'pandas.core.frame.DataFrame'>\n",
      "Int64Index: 229080 entries, 0 to 269999\n",
      "Data columns (total 45 columns):\n",
      " #   Column                       Non-Null Count   Dtype  \n",
      "---  ------                       --------------   -----  \n",
      " 0   member_id                    229080 non-null  int64  \n",
      " 1   loan_amnt                    229080 non-null  int64  \n",
      " 2   funded_amnt                  229080 non-null  int64  \n",
      " 3   funded_amnt_inv              229080 non-null  float64\n",
      " 4   batch_enrolled               229080 non-null  object \n",
      " 5   int_rate                     229080 non-null  float64\n",
      " 6   grade                        229080 non-null  object \n",
      " 7   sub_grade                    229080 non-null  object \n",
      " 8   emp_title                    229080 non-null  object \n",
      " 9   home_ownership               229080 non-null  object \n",
      " 10  annual_inc                   229080 non-null  float64\n",
      " 11  verification_status          229080 non-null  object \n",
      " 12  pymnt_plan                   229080 non-null  object \n",
      " 13  desc                         229080 non-null  object \n",
      " 14  purpose                      229080 non-null  object \n",
      " 15  title                        229080 non-null  object \n",
      " 16  zip_code                     229080 non-null  object \n",
      " 17  addr_state                   229080 non-null  object \n",
      " 18  dti                          229080 non-null  float64\n",
      " 19  delinq_2yrs                  229080 non-null  float64\n",
      " 20  inq_last_6mths               229080 non-null  float64\n",
      " 21  mths_since_last_delinq       229080 non-null  object \n",
      " 22  mths_since_last_record       229080 non-null  object \n",
      " 23  open_acc                     229080 non-null  float64\n",
      " 24  pub_rec                      229080 non-null  float64\n",
      " 25  revol_bal                    229080 non-null  int64  \n",
      " 26  revol_util                   229080 non-null  float64\n",
      " 27  total_acc                    229080 non-null  float64\n",
      " 28  initial_list_status          229080 non-null  object \n",
      " 29  total_rec_int                229080 non-null  float64\n",
      " 30  total_rec_late_fee           229080 non-null  float64\n",
      " 31  recoveries                   229080 non-null  float64\n",
      " 32  collection_recovery_fee      229080 non-null  float64\n",
      " 33  collections_12_mths_ex_med   229080 non-null  float64\n",
      " 34  mths_since_last_major_derog  229080 non-null  object \n",
      " 35  application_type             229080 non-null  object \n",
      " 36  verification_status_joint    229080 non-null  object \n",
      " 37  acc_now_delinq               229080 non-null  float64\n",
      " 38  tot_coll_amt                 229080 non-null  float64\n",
      " 39  tot_cur_bal                  229080 non-null  float64\n",
      " 40  total_rev_hi_lim             229080 non-null  float64\n",
      " 41  loan_status                  229080 non-null  int64  \n",
      " 42  term_in_months               229080 non-null  float64\n",
      " 43  emp_length_years             229080 non-null  float64\n",
      " 44  last_week_pay_week           229080 non-null  float64\n",
      "dtypes: float64(22), int64(5), object(18)\n",
      "memory usage: 80.4+ MB\n"
     ]
    }
   ],
   "source": [
    "raw_data.info()"
   ]
  },
  {
   "cell_type": "code",
   "execution_count": 399,
   "id": "a69f3e5b",
   "metadata": {
    "scrolled": true
   },
   "outputs": [
    {
     "data": {
      "text/plain": [
       "(229080, 45)"
      ]
     },
     "execution_count": 399,
     "metadata": {},
     "output_type": "execute_result"
    }
   ],
   "source": [
    "raw_data.shape"
   ]
  },
  {
   "cell_type": "markdown",
   "id": "a0a5430d",
   "metadata": {},
   "source": [
    "### Label encode grade and sub_grade column - 'A' being highest to 'G' being lowest"
   ]
  },
  {
   "cell_type": "code",
   "execution_count": 400,
   "id": "66d7d9fe",
   "metadata": {},
   "outputs": [],
   "source": [
    "from sklearn import preprocessing\n",
    "label_encoder = preprocessing.LabelEncoder()"
   ]
  },
  {
   "cell_type": "code",
   "execution_count": 401,
   "id": "a928f095",
   "metadata": {},
   "outputs": [],
   "source": [
    "raw_data['encoded_grade'] = label_encoder.fit_transform(raw_data['grade'])"
   ]
  },
  {
   "cell_type": "code",
   "execution_count": 402,
   "id": "f1dce830",
   "metadata": {},
   "outputs": [],
   "source": [
    "raw_data['encoded_subgrade'] = label_encoder.fit_transform(raw_data['sub_grade'])"
   ]
  },
  {
   "cell_type": "code",
   "execution_count": 403,
   "id": "d1aaa672",
   "metadata": {},
   "outputs": [],
   "source": [
    "raw_data.drop(['grade','sub_grade'],axis='columns',inplace=True)"
   ]
  },
  {
   "cell_type": "code",
   "execution_count": 404,
   "id": "46cac352",
   "metadata": {
    "scrolled": true
   },
   "outputs": [
    {
     "data": {
      "text/html": [
       "<div>\n",
       "<style scoped>\n",
       "    .dataframe tbody tr th:only-of-type {\n",
       "        vertical-align: middle;\n",
       "    }\n",
       "\n",
       "    .dataframe tbody tr th {\n",
       "        vertical-align: top;\n",
       "    }\n",
       "\n",
       "    .dataframe thead th {\n",
       "        text-align: right;\n",
       "    }\n",
       "</style>\n",
       "<table border=\"1\" class=\"dataframe\">\n",
       "  <thead>\n",
       "    <tr style=\"text-align: right;\">\n",
       "      <th></th>\n",
       "      <th>member_id</th>\n",
       "      <th>loan_amnt</th>\n",
       "      <th>funded_amnt</th>\n",
       "      <th>funded_amnt_inv</th>\n",
       "      <th>batch_enrolled</th>\n",
       "      <th>int_rate</th>\n",
       "      <th>emp_title</th>\n",
       "      <th>home_ownership</th>\n",
       "      <th>annual_inc</th>\n",
       "      <th>verification_status</th>\n",
       "      <th>...</th>\n",
       "      <th>acc_now_delinq</th>\n",
       "      <th>tot_coll_amt</th>\n",
       "      <th>tot_cur_bal</th>\n",
       "      <th>total_rev_hi_lim</th>\n",
       "      <th>loan_status</th>\n",
       "      <th>term_in_months</th>\n",
       "      <th>emp_length_years</th>\n",
       "      <th>last_week_pay_week</th>\n",
       "      <th>encoded_grade</th>\n",
       "      <th>encoded_subgrade</th>\n",
       "    </tr>\n",
       "  </thead>\n",
       "  <tbody>\n",
       "    <tr>\n",
       "      <th>0</th>\n",
       "      <td>58189336</td>\n",
       "      <td>14350</td>\n",
       "      <td>14350</td>\n",
       "      <td>14350.0</td>\n",
       "      <td>not applicable</td>\n",
       "      <td>19.19</td>\n",
       "      <td>clerk</td>\n",
       "      <td>OWN</td>\n",
       "      <td>28700.0</td>\n",
       "      <td>Verified</td>\n",
       "      <td>...</td>\n",
       "      <td>0.0</td>\n",
       "      <td>0.0</td>\n",
       "      <td>28699.0</td>\n",
       "      <td>30800.0</td>\n",
       "      <td>0</td>\n",
       "      <td>36.0</td>\n",
       "      <td>9.0</td>\n",
       "      <td>26.0</td>\n",
       "      <td>4</td>\n",
       "      <td>22</td>\n",
       "    </tr>\n",
       "    <tr>\n",
       "      <th>1</th>\n",
       "      <td>70011223</td>\n",
       "      <td>4800</td>\n",
       "      <td>4800</td>\n",
       "      <td>4800.0</td>\n",
       "      <td>BAT1586599</td>\n",
       "      <td>10.99</td>\n",
       "      <td>Human Resources Specialist</td>\n",
       "      <td>MORTGAGE</td>\n",
       "      <td>65000.0</td>\n",
       "      <td>Verified</td>\n",
       "      <td>...</td>\n",
       "      <td>0.0</td>\n",
       "      <td>0.0</td>\n",
       "      <td>9974.0</td>\n",
       "      <td>32900.0</td>\n",
       "      <td>0</td>\n",
       "      <td>36.0</td>\n",
       "      <td>0.0</td>\n",
       "      <td>9.0</td>\n",
       "      <td>1</td>\n",
       "      <td>8</td>\n",
       "    </tr>\n",
       "    <tr>\n",
       "      <th>2</th>\n",
       "      <td>70255675</td>\n",
       "      <td>10000</td>\n",
       "      <td>10000</td>\n",
       "      <td>10000.0</td>\n",
       "      <td>BAT1586599</td>\n",
       "      <td>7.26</td>\n",
       "      <td>Driver</td>\n",
       "      <td>OWN</td>\n",
       "      <td>45000.0</td>\n",
       "      <td>Not Verified</td>\n",
       "      <td>...</td>\n",
       "      <td>0.0</td>\n",
       "      <td>65.0</td>\n",
       "      <td>38295.0</td>\n",
       "      <td>34900.0</td>\n",
       "      <td>0</td>\n",
       "      <td>36.0</td>\n",
       "      <td>2.0</td>\n",
       "      <td>9.0</td>\n",
       "      <td>0</td>\n",
       "      <td>3</td>\n",
       "    </tr>\n",
       "    <tr>\n",
       "      <th>3</th>\n",
       "      <td>1893936</td>\n",
       "      <td>15000</td>\n",
       "      <td>15000</td>\n",
       "      <td>15000.0</td>\n",
       "      <td>BAT4808022</td>\n",
       "      <td>19.72</td>\n",
       "      <td>Us office of Personnel Management</td>\n",
       "      <td>RENT</td>\n",
       "      <td>105000.0</td>\n",
       "      <td>Not Verified</td>\n",
       "      <td>...</td>\n",
       "      <td>0.0</td>\n",
       "      <td>0.0</td>\n",
       "      <td>55564.0</td>\n",
       "      <td>24700.0</td>\n",
       "      <td>0</td>\n",
       "      <td>36.0</td>\n",
       "      <td>10.0</td>\n",
       "      <td>135.0</td>\n",
       "      <td>3</td>\n",
       "      <td>19</td>\n",
       "    </tr>\n",
       "    <tr>\n",
       "      <th>4</th>\n",
       "      <td>7652106</td>\n",
       "      <td>16000</td>\n",
       "      <td>16000</td>\n",
       "      <td>16000.0</td>\n",
       "      <td>BAT2833642</td>\n",
       "      <td>10.64</td>\n",
       "      <td>LAUSD-HOLLYWOOD HIGH SCHOOL</td>\n",
       "      <td>RENT</td>\n",
       "      <td>52000.0</td>\n",
       "      <td>Verified</td>\n",
       "      <td>...</td>\n",
       "      <td>0.0</td>\n",
       "      <td>0.0</td>\n",
       "      <td>47159.0</td>\n",
       "      <td>47033.0</td>\n",
       "      <td>0</td>\n",
       "      <td>36.0</td>\n",
       "      <td>10.0</td>\n",
       "      <td>96.0</td>\n",
       "      <td>1</td>\n",
       "      <td>6</td>\n",
       "    </tr>\n",
       "  </tbody>\n",
       "</table>\n",
       "<p>5 rows × 45 columns</p>\n",
       "</div>"
      ],
      "text/plain": [
       "   member_id  loan_amnt  funded_amnt  funded_amnt_inv  batch_enrolled  \\\n",
       "0   58189336      14350        14350          14350.0  not applicable   \n",
       "1   70011223       4800         4800           4800.0      BAT1586599   \n",
       "2   70255675      10000        10000          10000.0      BAT1586599   \n",
       "3    1893936      15000        15000          15000.0      BAT4808022   \n",
       "4    7652106      16000        16000          16000.0      BAT2833642   \n",
       "\n",
       "   int_rate                          emp_title home_ownership  annual_inc  \\\n",
       "0     19.19                              clerk            OWN     28700.0   \n",
       "1     10.99         Human Resources Specialist       MORTGAGE     65000.0   \n",
       "2      7.26                             Driver            OWN     45000.0   \n",
       "3     19.72  Us office of Personnel Management           RENT    105000.0   \n",
       "4     10.64        LAUSD-HOLLYWOOD HIGH SCHOOL           RENT     52000.0   \n",
       "\n",
       "  verification_status  ... acc_now_delinq tot_coll_amt tot_cur_bal  \\\n",
       "0            Verified  ...            0.0          0.0     28699.0   \n",
       "1            Verified  ...            0.0          0.0      9974.0   \n",
       "2        Not Verified  ...            0.0         65.0     38295.0   \n",
       "3        Not Verified  ...            0.0          0.0     55564.0   \n",
       "4            Verified  ...            0.0          0.0     47159.0   \n",
       "\n",
       "  total_rev_hi_lim loan_status term_in_months  emp_length_years  \\\n",
       "0          30800.0           0           36.0               9.0   \n",
       "1          32900.0           0           36.0               0.0   \n",
       "2          34900.0           0           36.0               2.0   \n",
       "3          24700.0           0           36.0              10.0   \n",
       "4          47033.0           0           36.0              10.0   \n",
       "\n",
       "   last_week_pay_week  encoded_grade encoded_subgrade  \n",
       "0                26.0              4               22  \n",
       "1                 9.0              1                8  \n",
       "2                 9.0              0                3  \n",
       "3               135.0              3               19  \n",
       "4                96.0              1                6  \n",
       "\n",
       "[5 rows x 45 columns]"
      ]
     },
     "execution_count": 404,
     "metadata": {},
     "output_type": "execute_result"
    }
   ],
   "source": [
    "raw_data.head()"
   ]
  },
  {
   "cell_type": "markdown",
   "id": "7bfb45b6",
   "metadata": {},
   "source": [
    "### Dropping not required columns as of now"
   ]
  },
  {
   "cell_type": "code",
   "execution_count": 405,
   "id": "84cd26ad",
   "metadata": {},
   "outputs": [],
   "source": [
    "raw_data.drop(['emp_title','desc','title','zip_code'],axis='columns',inplace=True)"
   ]
  },
  {
   "cell_type": "markdown",
   "id": "6c277d98",
   "metadata": {},
   "source": [
    "### One Hot Encoding into specific columns"
   ]
  },
  {
   "cell_type": "code",
   "execution_count": 406,
   "id": "f67d3aa1",
   "metadata": {},
   "outputs": [],
   "source": [
    "raw_data = pd.get_dummies(raw_data, columns=['batch_enrolled','home_ownership', 'verification_status', 'pymnt_plan',\n",
    "                                         'purpose','addr_state', 'initial_list_status','application_type','verification_status_joint'],drop_first=True)"
   ]
  },
  {
   "cell_type": "code",
   "execution_count": 407,
   "id": "8313776f",
   "metadata": {},
   "outputs": [
    {
     "data": {
      "text/html": [
       "<div>\n",
       "<style scoped>\n",
       "    .dataframe tbody tr th:only-of-type {\n",
       "        vertical-align: middle;\n",
       "    }\n",
       "\n",
       "    .dataframe tbody tr th {\n",
       "        vertical-align: top;\n",
       "    }\n",
       "\n",
       "    .dataframe thead th {\n",
       "        text-align: right;\n",
       "    }\n",
       "</style>\n",
       "<table border=\"1\" class=\"dataframe\">\n",
       "  <thead>\n",
       "    <tr style=\"text-align: right;\">\n",
       "      <th></th>\n",
       "      <th>member_id</th>\n",
       "      <th>loan_amnt</th>\n",
       "      <th>funded_amnt</th>\n",
       "      <th>funded_amnt_inv</th>\n",
       "      <th>int_rate</th>\n",
       "      <th>annual_inc</th>\n",
       "      <th>dti</th>\n",
       "      <th>delinq_2yrs</th>\n",
       "      <th>inq_last_6mths</th>\n",
       "      <th>mths_since_last_delinq</th>\n",
       "      <th>...</th>\n",
       "      <th>addr_state_VA</th>\n",
       "      <th>addr_state_VT</th>\n",
       "      <th>addr_state_WA</th>\n",
       "      <th>addr_state_WI</th>\n",
       "      <th>addr_state_WV</th>\n",
       "      <th>addr_state_WY</th>\n",
       "      <th>initial_list_status_w</th>\n",
       "      <th>application_type_JOINT</th>\n",
       "      <th>verification_status_joint_Verified</th>\n",
       "      <th>verification_status_joint_not applicable</th>\n",
       "    </tr>\n",
       "  </thead>\n",
       "  <tbody>\n",
       "    <tr>\n",
       "      <th>0</th>\n",
       "      <td>58189336</td>\n",
       "      <td>14350</td>\n",
       "      <td>14350</td>\n",
       "      <td>14350.0</td>\n",
       "      <td>19.19</td>\n",
       "      <td>28700.0</td>\n",
       "      <td>33.88</td>\n",
       "      <td>0.0</td>\n",
       "      <td>1.0</td>\n",
       "      <td>50.0</td>\n",
       "      <td>...</td>\n",
       "      <td>0</td>\n",
       "      <td>0</td>\n",
       "      <td>0</td>\n",
       "      <td>0</td>\n",
       "      <td>0</td>\n",
       "      <td>0</td>\n",
       "      <td>0</td>\n",
       "      <td>0</td>\n",
       "      <td>0</td>\n",
       "      <td>1</td>\n",
       "    </tr>\n",
       "    <tr>\n",
       "      <th>1</th>\n",
       "      <td>70011223</td>\n",
       "      <td>4800</td>\n",
       "      <td>4800</td>\n",
       "      <td>4800.0</td>\n",
       "      <td>10.99</td>\n",
       "      <td>65000.0</td>\n",
       "      <td>3.64</td>\n",
       "      <td>0.0</td>\n",
       "      <td>1.0</td>\n",
       "      <td>0</td>\n",
       "      <td>...</td>\n",
       "      <td>0</td>\n",
       "      <td>0</td>\n",
       "      <td>0</td>\n",
       "      <td>0</td>\n",
       "      <td>0</td>\n",
       "      <td>0</td>\n",
       "      <td>1</td>\n",
       "      <td>0</td>\n",
       "      <td>0</td>\n",
       "      <td>1</td>\n",
       "    </tr>\n",
       "    <tr>\n",
       "      <th>2</th>\n",
       "      <td>70255675</td>\n",
       "      <td>10000</td>\n",
       "      <td>10000</td>\n",
       "      <td>10000.0</td>\n",
       "      <td>7.26</td>\n",
       "      <td>45000.0</td>\n",
       "      <td>18.42</td>\n",
       "      <td>0.0</td>\n",
       "      <td>0.0</td>\n",
       "      <td>0</td>\n",
       "      <td>...</td>\n",
       "      <td>0</td>\n",
       "      <td>0</td>\n",
       "      <td>0</td>\n",
       "      <td>0</td>\n",
       "      <td>0</td>\n",
       "      <td>0</td>\n",
       "      <td>1</td>\n",
       "      <td>0</td>\n",
       "      <td>0</td>\n",
       "      <td>1</td>\n",
       "    </tr>\n",
       "    <tr>\n",
       "      <th>3</th>\n",
       "      <td>1893936</td>\n",
       "      <td>15000</td>\n",
       "      <td>15000</td>\n",
       "      <td>15000.0</td>\n",
       "      <td>19.72</td>\n",
       "      <td>105000.0</td>\n",
       "      <td>14.97</td>\n",
       "      <td>0.0</td>\n",
       "      <td>2.0</td>\n",
       "      <td>46.0</td>\n",
       "      <td>...</td>\n",
       "      <td>1</td>\n",
       "      <td>0</td>\n",
       "      <td>0</td>\n",
       "      <td>0</td>\n",
       "      <td>0</td>\n",
       "      <td>0</td>\n",
       "      <td>0</td>\n",
       "      <td>0</td>\n",
       "      <td>0</td>\n",
       "      <td>1</td>\n",
       "    </tr>\n",
       "    <tr>\n",
       "      <th>4</th>\n",
       "      <td>7652106</td>\n",
       "      <td>16000</td>\n",
       "      <td>16000</td>\n",
       "      <td>16000.0</td>\n",
       "      <td>10.64</td>\n",
       "      <td>52000.0</td>\n",
       "      <td>20.16</td>\n",
       "      <td>0.0</td>\n",
       "      <td>0.0</td>\n",
       "      <td>0</td>\n",
       "      <td>...</td>\n",
       "      <td>0</td>\n",
       "      <td>0</td>\n",
       "      <td>0</td>\n",
       "      <td>0</td>\n",
       "      <td>0</td>\n",
       "      <td>0</td>\n",
       "      <td>1</td>\n",
       "      <td>0</td>\n",
       "      <td>0</td>\n",
       "      <td>1</td>\n",
       "    </tr>\n",
       "  </tbody>\n",
       "</table>\n",
       "<p>5 rows × 143 columns</p>\n",
       "</div>"
      ],
      "text/plain": [
       "   member_id  loan_amnt  funded_amnt  funded_amnt_inv  int_rate  annual_inc  \\\n",
       "0   58189336      14350        14350          14350.0     19.19     28700.0   \n",
       "1   70011223       4800         4800           4800.0     10.99     65000.0   \n",
       "2   70255675      10000        10000          10000.0      7.26     45000.0   \n",
       "3    1893936      15000        15000          15000.0     19.72    105000.0   \n",
       "4    7652106      16000        16000          16000.0     10.64     52000.0   \n",
       "\n",
       "     dti  delinq_2yrs  inq_last_6mths mths_since_last_delinq  ...  \\\n",
       "0  33.88          0.0             1.0                   50.0  ...   \n",
       "1   3.64          0.0             1.0                      0  ...   \n",
       "2  18.42          0.0             0.0                      0  ...   \n",
       "3  14.97          0.0             2.0                   46.0  ...   \n",
       "4  20.16          0.0             0.0                      0  ...   \n",
       "\n",
       "  addr_state_VA  addr_state_VT  addr_state_WA  addr_state_WI  addr_state_WV  \\\n",
       "0             0              0              0              0              0   \n",
       "1             0              0              0              0              0   \n",
       "2             0              0              0              0              0   \n",
       "3             1              0              0              0              0   \n",
       "4             0              0              0              0              0   \n",
       "\n",
       "   addr_state_WY  initial_list_status_w  application_type_JOINT  \\\n",
       "0              0                      0                       0   \n",
       "1              0                      1                       0   \n",
       "2              0                      1                       0   \n",
       "3              0                      0                       0   \n",
       "4              0                      1                       0   \n",
       "\n",
       "   verification_status_joint_Verified  \\\n",
       "0                                   0   \n",
       "1                                   0   \n",
       "2                                   0   \n",
       "3                                   0   \n",
       "4                                   0   \n",
       "\n",
       "   verification_status_joint_not applicable  \n",
       "0                                         1  \n",
       "1                                         1  \n",
       "2                                         1  \n",
       "3                                         1  \n",
       "4                                         1  \n",
       "\n",
       "[5 rows x 143 columns]"
      ]
     },
     "execution_count": 407,
     "metadata": {},
     "output_type": "execute_result"
    }
   ],
   "source": [
    "raw_data.head()"
   ]
  },
  {
   "cell_type": "code",
   "execution_count": 408,
   "id": "0991b536",
   "metadata": {},
   "outputs": [
    {
     "data": {
      "text/plain": [
       "(229080, 143)"
      ]
     },
     "execution_count": 408,
     "metadata": {},
     "output_type": "execute_result"
    }
   ],
   "source": [
    "raw_data.shape"
   ]
  },
  {
   "cell_type": "code",
   "execution_count": 409,
   "id": "065562c2",
   "metadata": {},
   "outputs": [],
   "source": [
    "raw_data.to_csv('raw.csv', encoding='utf-8')"
   ]
  },
  {
   "cell_type": "markdown",
   "id": "8eb37f29",
   "metadata": {},
   "source": [
    "# "
   ]
  },
  {
   "cell_type": "markdown",
   "id": "0cc27e7b",
   "metadata": {},
   "source": [
    "# NEED TO HANDLE emp_title COLUMN LATER!"
   ]
  },
  {
   "cell_type": "markdown",
   "id": "bf168173",
   "metadata": {},
   "source": [
    "# "
   ]
  },
  {
   "cell_type": "markdown",
   "id": "f13600be",
   "metadata": {},
   "source": [
    "## Dropping Unnecessary Columns"
   ]
  },
  {
   "cell_type": "code",
   "execution_count": null,
   "id": "205ba020",
   "metadata": {},
   "outputs": [],
   "source": []
  },
  {
   "cell_type": "code",
   "execution_count": null,
   "id": "f86687c4",
   "metadata": {},
   "outputs": [],
   "source": []
  },
  {
   "cell_type": "markdown",
   "id": "ebf7f999",
   "metadata": {},
   "source": [
    "## Finding Correlation"
   ]
  },
  {
   "cell_type": "markdown",
   "id": "7007fc15",
   "metadata": {},
   "source": [
    "correlation = raw_data.corr().abs()\n",
    "\n",
    "unstacked_corr = correlation.unstack()\n",
    "so = unstacked_corr.sort_values(kind=\"quicksort\")\n",
    "\n",
    "so"
   ]
  },
  {
   "cell_type": "markdown",
   "id": "e6fb4fd6",
   "metadata": {},
   "source": [
    "dfCorr = raw_data.corr()\n",
    "filteredDf = dfCorr[((dfCorr >= .5) | (dfCorr <= -.5)) & (dfCorr !=1.000)]\n",
    "plt.figure(figsize=(30,10))\n",
    "sns.heatmap(filteredDf, annot=True, cmap=\"Reds\")\n",
    "plt.show()"
   ]
  },
  {
   "cell_type": "markdown",
   "id": "8da5cbc9",
   "metadata": {},
   "source": [
    "correlation=raw_data.corr()\n",
    "correlation.to_csv('corr.csv', encoding='utf-8')"
   ]
  },
  {
   "cell_type": "markdown",
   "id": "d88f18fe",
   "metadata": {},
   "source": [
    "# "
   ]
  },
  {
   "cell_type": "markdown",
   "id": "b50fe821",
   "metadata": {},
   "source": [
    "## Keeping blank for PCA/VIF"
   ]
  },
  {
   "cell_type": "markdown",
   "id": "8e9428e3",
   "metadata": {},
   "source": [
    "# "
   ]
  },
  {
   "cell_type": "markdown",
   "id": "88d9fdf5",
   "metadata": {},
   "source": [
    "# Train Test Split"
   ]
  },
  {
   "cell_type": "code",
   "execution_count": 410,
   "id": "fd45b2ac",
   "metadata": {},
   "outputs": [],
   "source": [
    "from sklearn.model_selection import train_test_split"
   ]
  },
  {
   "cell_type": "code",
   "execution_count": 411,
   "id": "ab30febc",
   "metadata": {},
   "outputs": [],
   "source": [
    "X = raw_data.drop(['loan_status'],axis='columns')\n",
    "y = raw_data['loan_status']"
   ]
  },
  {
   "cell_type": "code",
   "execution_count": 412,
   "id": "10ab7e76",
   "metadata": {},
   "outputs": [
    {
     "data": {
      "text/plain": [
       "(229080, 142)"
      ]
     },
     "execution_count": 412,
     "metadata": {},
     "output_type": "execute_result"
    }
   ],
   "source": [
    "X.shape"
   ]
  },
  {
   "cell_type": "code",
   "execution_count": 413,
   "id": "3fd0b22a",
   "metadata": {},
   "outputs": [
    {
     "data": {
      "text/plain": [
       "(229080,)"
      ]
     },
     "execution_count": 413,
     "metadata": {},
     "output_type": "execute_result"
    }
   ],
   "source": [
    "y.shape"
   ]
  },
  {
   "cell_type": "code",
   "execution_count": 414,
   "id": "431d56c8",
   "metadata": {},
   "outputs": [],
   "source": [
    "from sklearn.model_selection import train_test_split\n",
    "X_train, X_test, y_train, y_test = train_test_split(X,y,test_size=0.2)"
   ]
  },
  {
   "cell_type": "code",
   "execution_count": 415,
   "id": "c72c2eab",
   "metadata": {},
   "outputs": [
    {
     "name": "stdout",
     "output_type": "stream",
     "text": [
      "(183264, 142) (45816, 142) (183264,) (45816,)\n"
     ]
    }
   ],
   "source": [
    "print(X_train.shape, X_test.shape, y_train.shape, y_test.shape)"
   ]
  },
  {
   "cell_type": "markdown",
   "id": "25a6f755",
   "metadata": {},
   "source": [
    "# Model Build"
   ]
  },
  {
   "cell_type": "code",
   "execution_count": 416,
   "id": "7374f36d",
   "metadata": {},
   "outputs": [],
   "source": [
    "from sklearn.linear_model import LogisticRegression"
   ]
  },
  {
   "cell_type": "code",
   "execution_count": 417,
   "id": "e9b83ed7",
   "metadata": {},
   "outputs": [],
   "source": [
    "lr = LogisticRegression()"
   ]
  },
  {
   "cell_type": "code",
   "execution_count": 418,
   "id": "46414cdb",
   "metadata": {},
   "outputs": [
    {
     "name": "stderr",
     "output_type": "stream",
     "text": [
      "C:\\Users\\user\\anaconda3\\lib\\site-packages\\sklearn\\linear_model\\_logistic.py:763: ConvergenceWarning: lbfgs failed to converge (status=1):\n",
      "STOP: TOTAL NO. of ITERATIONS REACHED LIMIT.\n",
      "\n",
      "Increase the number of iterations (max_iter) or scale the data as shown in:\n",
      "    https://scikit-learn.org/stable/modules/preprocessing.html\n",
      "Please also refer to the documentation for alternative solver options:\n",
      "    https://scikit-learn.org/stable/modules/linear_model.html#logistic-regression\n",
      "  n_iter_i = _check_optimize_result(\n"
     ]
    },
    {
     "data": {
      "text/plain": [
       "LogisticRegression()"
      ]
     },
     "execution_count": 418,
     "metadata": {},
     "output_type": "execute_result"
    }
   ],
   "source": [
    "lr.fit(X_train,y_train)"
   ]
  },
  {
   "cell_type": "markdown",
   "id": "b5e51c7f",
   "metadata": {},
   "source": [
    "# Finding Logistic Model Accuracy"
   ]
  },
  {
   "cell_type": "code",
   "execution_count": 419,
   "id": "0ff09f95",
   "metadata": {},
   "outputs": [
    {
     "name": "stdout",
     "output_type": "stream",
     "text": [
      "Traiining accuracy for logistic model: 0.8144043565566614\n"
     ]
    }
   ],
   "source": [
    "lr_score = lr.score(X_train,y_train)\n",
    "print('Traiining accuracy for logistic model:', lr_score)"
   ]
  },
  {
   "cell_type": "markdown",
   "id": "45d025ce",
   "metadata": {},
   "source": [
    "# Finding Model Cross Validation Score"
   ]
  },
  {
   "cell_type": "code",
   "execution_count": 425,
   "id": "45da3ca4",
   "metadata": {},
   "outputs": [
    {
     "name": "stderr",
     "output_type": "stream",
     "text": [
      "C:\\Users\\user\\anaconda3\\lib\\site-packages\\sklearn\\linear_model\\_logistic.py:763: ConvergenceWarning: lbfgs failed to converge (status=1):\n",
      "STOP: TOTAL NO. of ITERATIONS REACHED LIMIT.\n",
      "\n",
      "Increase the number of iterations (max_iter) or scale the data as shown in:\n",
      "    https://scikit-learn.org/stable/modules/preprocessing.html\n",
      "Please also refer to the documentation for alternative solver options:\n",
      "    https://scikit-learn.org/stable/modules/linear_model.html#logistic-regression\n",
      "  n_iter_i = _check_optimize_result(\n",
      "C:\\Users\\user\\anaconda3\\lib\\site-packages\\sklearn\\linear_model\\_logistic.py:763: ConvergenceWarning: lbfgs failed to converge (status=1):\n",
      "STOP: TOTAL NO. of ITERATIONS REACHED LIMIT.\n",
      "\n",
      "Increase the number of iterations (max_iter) or scale the data as shown in:\n",
      "    https://scikit-learn.org/stable/modules/preprocessing.html\n",
      "Please also refer to the documentation for alternative solver options:\n",
      "    https://scikit-learn.org/stable/modules/linear_model.html#logistic-regression\n",
      "  n_iter_i = _check_optimize_result(\n",
      "C:\\Users\\user\\anaconda3\\lib\\site-packages\\sklearn\\linear_model\\_logistic.py:763: ConvergenceWarning: lbfgs failed to converge (status=1):\n",
      "STOP: TOTAL NO. of ITERATIONS REACHED LIMIT.\n",
      "\n",
      "Increase the number of iterations (max_iter) or scale the data as shown in:\n",
      "    https://scikit-learn.org/stable/modules/preprocessing.html\n",
      "Please also refer to the documentation for alternative solver options:\n",
      "    https://scikit-learn.org/stable/modules/linear_model.html#logistic-regression\n",
      "  n_iter_i = _check_optimize_result(\n",
      "C:\\Users\\user\\anaconda3\\lib\\site-packages\\sklearn\\linear_model\\_logistic.py:763: ConvergenceWarning: lbfgs failed to converge (status=1):\n",
      "STOP: TOTAL NO. of ITERATIONS REACHED LIMIT.\n",
      "\n",
      "Increase the number of iterations (max_iter) or scale the data as shown in:\n",
      "    https://scikit-learn.org/stable/modules/preprocessing.html\n",
      "Please also refer to the documentation for alternative solver options:\n",
      "    https://scikit-learn.org/stable/modules/linear_model.html#logistic-regression\n",
      "  n_iter_i = _check_optimize_result(\n",
      "C:\\Users\\user\\anaconda3\\lib\\site-packages\\sklearn\\linear_model\\_logistic.py:763: ConvergenceWarning: lbfgs failed to converge (status=1):\n",
      "STOP: TOTAL NO. of ITERATIONS REACHED LIMIT.\n",
      "\n",
      "Increase the number of iterations (max_iter) or scale the data as shown in:\n",
      "    https://scikit-learn.org/stable/modules/preprocessing.html\n",
      "Please also refer to the documentation for alternative solver options:\n",
      "    https://scikit-learn.org/stable/modules/linear_model.html#logistic-regression\n",
      "  n_iter_i = _check_optimize_result(\n",
      "C:\\Users\\user\\anaconda3\\lib\\site-packages\\sklearn\\linear_model\\_logistic.py:763: ConvergenceWarning: lbfgs failed to converge (status=1):\n",
      "STOP: TOTAL NO. of ITERATIONS REACHED LIMIT.\n",
      "\n",
      "Increase the number of iterations (max_iter) or scale the data as shown in:\n",
      "    https://scikit-learn.org/stable/modules/preprocessing.html\n",
      "Please also refer to the documentation for alternative solver options:\n",
      "    https://scikit-learn.org/stable/modules/linear_model.html#logistic-regression\n",
      "  n_iter_i = _check_optimize_result(\n",
      "C:\\Users\\user\\anaconda3\\lib\\site-packages\\sklearn\\linear_model\\_logistic.py:763: ConvergenceWarning: lbfgs failed to converge (status=1):\n",
      "STOP: TOTAL NO. of ITERATIONS REACHED LIMIT.\n",
      "\n",
      "Increase the number of iterations (max_iter) or scale the data as shown in:\n",
      "    https://scikit-learn.org/stable/modules/preprocessing.html\n",
      "Please also refer to the documentation for alternative solver options:\n",
      "    https://scikit-learn.org/stable/modules/linear_model.html#logistic-regression\n",
      "  n_iter_i = _check_optimize_result(\n",
      "C:\\Users\\user\\anaconda3\\lib\\site-packages\\sklearn\\linear_model\\_logistic.py:763: ConvergenceWarning: lbfgs failed to converge (status=1):\n",
      "STOP: TOTAL NO. of ITERATIONS REACHED LIMIT.\n",
      "\n",
      "Increase the number of iterations (max_iter) or scale the data as shown in:\n",
      "    https://scikit-learn.org/stable/modules/preprocessing.html\n",
      "Please also refer to the documentation for alternative solver options:\n",
      "    https://scikit-learn.org/stable/modules/linear_model.html#logistic-regression\n",
      "  n_iter_i = _check_optimize_result(\n",
      "C:\\Users\\user\\anaconda3\\lib\\site-packages\\sklearn\\linear_model\\_logistic.py:763: ConvergenceWarning: lbfgs failed to converge (status=1):\n",
      "STOP: TOTAL NO. of ITERATIONS REACHED LIMIT.\n",
      "\n",
      "Increase the number of iterations (max_iter) or scale the data as shown in:\n",
      "    https://scikit-learn.org/stable/modules/preprocessing.html\n",
      "Please also refer to the documentation for alternative solver options:\n",
      "    https://scikit-learn.org/stable/modules/linear_model.html#logistic-regression\n",
      "  n_iter_i = _check_optimize_result(\n",
      "C:\\Users\\user\\anaconda3\\lib\\site-packages\\sklearn\\linear_model\\_logistic.py:763: ConvergenceWarning: lbfgs failed to converge (status=1):\n",
      "STOP: TOTAL NO. of ITERATIONS REACHED LIMIT.\n",
      "\n",
      "Increase the number of iterations (max_iter) or scale the data as shown in:\n",
      "    https://scikit-learn.org/stable/modules/preprocessing.html\n",
      "Please also refer to the documentation for alternative solver options:\n",
      "    https://scikit-learn.org/stable/modules/linear_model.html#logistic-regression\n",
      "  n_iter_i = _check_optimize_result(\n"
     ]
    },
    {
     "name": "stdout",
     "output_type": "stream",
     "text": [
      "cross val score : 0.8183931525450454\n"
     ]
    }
   ],
   "source": [
    "from sklearn.model_selection import cross_val_score, cross_val_predict\n",
    "\n",
    "#Cross validation prediction of lr_model-\n",
    "cv_predict=cross_val_predict(lr,X_train,y_train,cv=5)\n",
    "#Cross validation score-\n",
    "cv_score=cross_val_score(lr,X_train,y_train,cv=5)\n",
    "print('cross val score :',np.average(cv_score))"
   ]
  },
  {
   "cell_type": "markdown",
   "id": "5e04b1fb",
   "metadata": {},
   "source": [
    "# Confusion Matrix"
   ]
  },
  {
   "cell_type": "code",
   "execution_count": 427,
   "id": "e9007520",
   "metadata": {},
   "outputs": [
    {
     "data": {
      "text/html": [
       "<div>\n",
       "<style scoped>\n",
       "    .dataframe tbody tr th:only-of-type {\n",
       "        vertical-align: middle;\n",
       "    }\n",
       "\n",
       "    .dataframe tbody tr th {\n",
       "        vertical-align: top;\n",
       "    }\n",
       "\n",
       "    .dataframe thead th {\n",
       "        text-align: right;\n",
       "    }\n",
       "</style>\n",
       "<table border=\"1\" class=\"dataframe\">\n",
       "  <thead>\n",
       "    <tr style=\"text-align: right;\">\n",
       "      <th>col_0</th>\n",
       "      <th>0</th>\n",
       "      <th>1</th>\n",
       "    </tr>\n",
       "    <tr>\n",
       "      <th>loan_status</th>\n",
       "      <th></th>\n",
       "      <th></th>\n",
       "    </tr>\n",
       "  </thead>\n",
       "  <tbody>\n",
       "    <tr>\n",
       "      <th>0</th>\n",
       "      <td>145618</td>\n",
       "      <td>2101</td>\n",
       "    </tr>\n",
       "    <tr>\n",
       "      <th>1</th>\n",
       "      <td>31181</td>\n",
       "      <td>4364</td>\n",
       "    </tr>\n",
       "  </tbody>\n",
       "</table>\n",
       "</div>"
      ],
      "text/plain": [
       "col_0             0     1\n",
       "loan_status              \n",
       "0            145618  2101\n",
       "1             31181  4364"
      ]
     },
     "execution_count": 427,
     "metadata": {},
     "output_type": "execute_result"
    }
   ],
   "source": [
    "from sklearn.metrics import confusion_matrix\n",
    "cm=confusion_matrix(y_train,cv_predict)\n",
    "cm=pd.crosstab(y_train,cv_predict)\n",
    "cm"
   ]
  },
  {
   "cell_type": "markdown",
   "id": "feb4e4c8",
   "metadata": {},
   "source": [
    "# Classification Report"
   ]
  },
  {
   "cell_type": "code",
   "execution_count": 428,
   "id": "00ccca74",
   "metadata": {},
   "outputs": [
    {
     "name": "stdout",
     "output_type": "stream",
     "text": [
      "              precision    recall  f1-score   support\n",
      "\n",
      "           0       0.82      0.99      0.90    147719\n",
      "           1       0.68      0.12      0.21     35545\n",
      "\n",
      "    accuracy                           0.82    183264\n",
      "   macro avg       0.75      0.55      0.55    183264\n",
      "weighted avg       0.79      0.82      0.76    183264\n",
      "\n"
     ]
    }
   ],
   "source": [
    "from sklearn.metrics import classification_report\n",
    "classification_scores=classification_report(y_train,cv_predict)\n",
    "print(classification_scores)"
   ]
  },
  {
   "cell_type": "markdown",
   "id": "760652f6",
   "metadata": {},
   "source": [
    "# Model Prediction / Test Accuracy"
   ]
  },
  {
   "cell_type": "code",
   "execution_count": 431,
   "id": "9e868896",
   "metadata": {},
   "outputs": [
    {
     "name": "stdout",
     "output_type": "stream",
     "text": [
      "[0 0 0 ... 0 0 0]\n"
     ]
    }
   ],
   "source": [
    "lr_pred=lr.predict(X_test)\n",
    "print(lr_pred)"
   ]
  },
  {
   "cell_type": "code",
   "execution_count": 433,
   "id": "d093dfae",
   "metadata": {
    "scrolled": true
   },
   "outputs": [
    {
     "data": {
      "text/plain": [
       "0.5404549854583586"
      ]
     },
     "execution_count": 433,
     "metadata": {},
     "output_type": "execute_result"
    }
   ],
   "source": [
    "from sklearn.metrics import roc_auc_score\n",
    "roc_auc_score(y_test, lr_pred)"
   ]
  },
  {
   "cell_type": "code",
   "execution_count": 436,
   "id": "62bfbcd9",
   "metadata": {},
   "outputs": [
    {
     "data": {
      "text/plain": [
       "0.8111140213026017"
      ]
     },
     "execution_count": 436,
     "metadata": {},
     "output_type": "execute_result"
    }
   ],
   "source": [
    "test_accuracy = lr.score(X_test, y_test)\n",
    "test_accuracy"
   ]
  },
  {
   "cell_type": "code",
   "execution_count": 434,
   "id": "6dff7bd9",
   "metadata": {},
   "outputs": [
    {
     "data": {
      "text/plain": [
       "0.8111140213026017"
      ]
     },
     "execution_count": 434,
     "metadata": {},
     "output_type": "execute_result"
    }
   ],
   "source": [
    "def compute_accuracy(y_true, y_pred):\n",
    "    correct_predictions = 0\n",
    "    # iterate over each label and check\n",
    "    for true, predicted in zip(y_true, y_pred):\n",
    "        if true == predicted:\n",
    "            correct_predictions += 1\n",
    "    # compute the accuracy\n",
    "    accuracy = correct_predictions/len(y_true)\n",
    "    return accuracy\n",
    "\n",
    "# get the accuracy\n",
    "compute_accuracy(y_test, lr_pred)"
   ]
  }
 ],
 "metadata": {
  "kernelspec": {
   "display_name": "Python 3 (ipykernel)",
   "language": "python",
   "name": "python3"
  },
  "language_info": {
   "codemirror_mode": {
    "name": "ipython",
    "version": 3
   },
   "file_extension": ".py",
   "mimetype": "text/x-python",
   "name": "python",
   "nbconvert_exporter": "python",
   "pygments_lexer": "ipython3",
   "version": "3.9.7"
  }
 },
 "nbformat": 4,
 "nbformat_minor": 5
}
